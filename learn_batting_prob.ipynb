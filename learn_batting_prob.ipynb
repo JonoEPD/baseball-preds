{
 "cells": [
  {
   "cell_type": "code",
   "execution_count": 1,
   "metadata": {
    "collapsed": true
   },
   "outputs": [],
   "source": [
    "import numpy as np\n",
    "import pandas as pd"
   ]
  },
  {
   "cell_type": "code",
   "execution_count": 2,
   "metadata": {},
   "outputs": [
    {
     "data": {
      "text/html": [
       "<div>\n",
       "<style>\n",
       "    .dataframe thead tr:only-child th {\n",
       "        text-align: right;\n",
       "    }\n",
       "\n",
       "    .dataframe thead th {\n",
       "        text-align: left;\n",
       "    }\n",
       "\n",
       "    .dataframe tbody tr th {\n",
       "        vertical-align: top;\n",
       "    }\n",
       "</style>\n",
       "<table border=\"1\" class=\"dataframe\">\n",
       "  <thead>\n",
       "    <tr style=\"text-align: right;\">\n",
       "      <th></th>\n",
       "      <th>player_id</th>\n",
       "      <th>year-0</th>\n",
       "      <th>g-0</th>\n",
       "      <th>ab-0</th>\n",
       "      <th>r-0</th>\n",
       "      <th>h-0</th>\n",
       "      <th>double-0</th>\n",
       "      <th>triple-0</th>\n",
       "      <th>hr-0</th>\n",
       "      <th>rbi-0</th>\n",
       "      <th>...</th>\n",
       "      <th>sb_ratio</th>\n",
       "      <th>bb_per_pa</th>\n",
       "      <th>so_per_ab</th>\n",
       "      <th>slg</th>\n",
       "      <th>obp</th>\n",
       "      <th>rc</th>\n",
       "      <th>rc_per_ab</th>\n",
       "      <th>babip</th>\n",
       "      <th>iso</th>\n",
       "      <th>pa_per_so</th>\n",
       "    </tr>\n",
       "  </thead>\n",
       "  <tbody>\n",
       "    <tr>\n",
       "      <th>0</th>\n",
       "      <td>ordazlu01</td>\n",
       "      <td>1997.0</td>\n",
       "      <td>12.0</td>\n",
       "      <td>22.0</td>\n",
       "      <td>3.0</td>\n",
       "      <td>6.0</td>\n",
       "      <td>1.0</td>\n",
       "      <td>0.0</td>\n",
       "      <td>0.0</td>\n",
       "      <td>1.0</td>\n",
       "      <td>...</td>\n",
       "      <td>0.705882</td>\n",
       "      <td>0.068687</td>\n",
       "      <td>0.121005</td>\n",
       "      <td>0.248858</td>\n",
       "      <td>0.275574</td>\n",
       "      <td>30.021186</td>\n",
       "      <td>0.063604</td>\n",
       "      <td>0.246154</td>\n",
       "      <td>0.029680</td>\n",
       "      <td>8.905660</td>\n",
       "    </tr>\n",
       "    <tr>\n",
       "      <th>1</th>\n",
       "      <td>distebe01</td>\n",
       "      <td>1984.0</td>\n",
       "      <td>45.0</td>\n",
       "      <td>78.0</td>\n",
       "      <td>10.0</td>\n",
       "      <td>13.0</td>\n",
       "      <td>1.0</td>\n",
       "      <td>2.0</td>\n",
       "      <td>3.0</td>\n",
       "      <td>9.0</td>\n",
       "      <td>...</td>\n",
       "      <td>0.500000</td>\n",
       "      <td>0.076023</td>\n",
       "      <td>0.173333</td>\n",
       "      <td>0.360000</td>\n",
       "      <td>0.294294</td>\n",
       "      <td>31.141104</td>\n",
       "      <td>0.095525</td>\n",
       "      <td>0.250000</td>\n",
       "      <td>0.133333</td>\n",
       "      <td>6.269231</td>\n",
       "    </tr>\n",
       "    <tr>\n",
       "      <th>2</th>\n",
       "      <td>schmimi01</td>\n",
       "      <td>1972.0</td>\n",
       "      <td>13.0</td>\n",
       "      <td>34.0</td>\n",
       "      <td>2.0</td>\n",
       "      <td>7.0</td>\n",
       "      <td>0.0</td>\n",
       "      <td>0.0</td>\n",
       "      <td>1.0</td>\n",
       "      <td>3.0</td>\n",
       "      <td>...</td>\n",
       "      <td>0.674242</td>\n",
       "      <td>0.146896</td>\n",
       "      <td>0.278300</td>\n",
       "      <td>0.514855</td>\n",
       "      <td>0.373946</td>\n",
       "      <td>505.792477</td>\n",
       "      <td>0.161234</td>\n",
       "      <td>0.288288</td>\n",
       "      <td>0.258744</td>\n",
       "      <td>4.239189</td>\n",
       "    </tr>\n",
       "    <tr>\n",
       "      <th>3</th>\n",
       "      <td>thomeji01</td>\n",
       "      <td>1991.0</td>\n",
       "      <td>27.0</td>\n",
       "      <td>98.0</td>\n",
       "      <td>7.0</td>\n",
       "      <td>25.0</td>\n",
       "      <td>4.0</td>\n",
       "      <td>2.0</td>\n",
       "      <td>1.0</td>\n",
       "      <td>9.0</td>\n",
       "      <td>...</td>\n",
       "      <td>0.583333</td>\n",
       "      <td>0.154306</td>\n",
       "      <td>0.257438</td>\n",
       "      <td>0.530055</td>\n",
       "      <td>0.403924</td>\n",
       "      <td>350.181400</td>\n",
       "      <td>0.178938</td>\n",
       "      <td>0.334208</td>\n",
       "      <td>0.241651</td>\n",
       "      <td>4.615566</td>\n",
       "    </tr>\n",
       "    <tr>\n",
       "      <th>4</th>\n",
       "      <td>diazma02</td>\n",
       "      <td>2003.0</td>\n",
       "      <td>4.0</td>\n",
       "      <td>9.0</td>\n",
       "      <td>2.0</td>\n",
       "      <td>1.0</td>\n",
       "      <td>0.0</td>\n",
       "      <td>0.0</td>\n",
       "      <td>0.0</td>\n",
       "      <td>0.0</td>\n",
       "      <td>...</td>\n",
       "      <td>0.619048</td>\n",
       "      <td>0.036623</td>\n",
       "      <td>0.184818</td>\n",
       "      <td>0.447745</td>\n",
       "      <td>0.343943</td>\n",
       "      <td>136.528042</td>\n",
       "      <td>0.144474</td>\n",
       "      <td>0.353909</td>\n",
       "      <td>0.138614</td>\n",
       "      <td>5.625000</td>\n",
       "    </tr>\n",
       "  </tbody>\n",
       "</table>\n",
       "<p>5 rows × 289 columns</p>\n",
       "</div>"
      ],
      "text/plain": [
       "   player_id  year-0   g-0  ab-0   r-0   h-0  double-0  triple-0  hr-0  rbi-0  \\\n",
       "0  ordazlu01  1997.0  12.0  22.0   3.0   6.0       1.0       0.0   0.0    1.0   \n",
       "1  distebe01  1984.0  45.0  78.0  10.0  13.0       1.0       2.0   3.0    9.0   \n",
       "2  schmimi01  1972.0  13.0  34.0   2.0   7.0       0.0       0.0   1.0    3.0   \n",
       "3  thomeji01  1991.0  27.0  98.0   7.0  25.0       4.0       2.0   1.0    9.0   \n",
       "4   diazma02  2003.0   4.0   9.0   2.0   1.0       0.0       0.0   0.0    0.0   \n",
       "\n",
       "     ...      sb_ratio  bb_per_pa  so_per_ab       slg       obp          rc  \\\n",
       "0    ...      0.705882   0.068687   0.121005  0.248858  0.275574   30.021186   \n",
       "1    ...      0.500000   0.076023   0.173333  0.360000  0.294294   31.141104   \n",
       "2    ...      0.674242   0.146896   0.278300  0.514855  0.373946  505.792477   \n",
       "3    ...      0.583333   0.154306   0.257438  0.530055  0.403924  350.181400   \n",
       "4    ...      0.619048   0.036623   0.184818  0.447745  0.343943  136.528042   \n",
       "\n",
       "   rc_per_ab     babip       iso  pa_per_so  \n",
       "0   0.063604  0.246154  0.029680   8.905660  \n",
       "1   0.095525  0.250000  0.133333   6.269231  \n",
       "2   0.161234  0.288288  0.258744   4.239189  \n",
       "3   0.178938  0.334208  0.241651   4.615566  \n",
       "4   0.144474  0.353909  0.138614   5.625000  \n",
       "\n",
       "[5 rows x 289 columns]"
      ]
     },
     "execution_count": 2,
     "metadata": {},
     "output_type": "execute_result"
    }
   ],
   "source": [
    "#bat = pd.read_csv(\"batting_stacked_hwh_fpos.csv\")\n",
    "bat = pd.read_csv(\"stacked_batting_features.csv\")\n",
    "bat_agg = pd.read_csv(\"batting_agg.csv\")\n",
    "X_bat = pd.merge(bat, bat_agg, how='inner', left_on='player_id', right_on='player_id')\n",
    "X_bat.head()"
   ]
  },
  {
   "cell_type": "code",
   "execution_count": 89,
   "metadata": {},
   "outputs": [
    {
     "data": {
      "text/html": [
       "<div>\n",
       "<style>\n",
       "    .dataframe thead tr:only-child th {\n",
       "        text-align: right;\n",
       "    }\n",
       "\n",
       "    .dataframe thead th {\n",
       "        text-align: left;\n",
       "    }\n",
       "\n",
       "    .dataframe tbody tr th {\n",
       "        vertical-align: top;\n",
       "    }\n",
       "</style>\n",
       "<table border=\"1\" class=\"dataframe\">\n",
       "  <thead>\n",
       "    <tr style=\"text-align: right;\">\n",
       "      <th></th>\n",
       "      <th>player_id</th>\n",
       "      <th>0</th>\n",
       "      <th>1</th>\n",
       "      <th>2</th>\n",
       "      <th>3</th>\n",
       "      <th>4</th>\n",
       "      <th>5</th>\n",
       "      <th>6</th>\n",
       "      <th>7</th>\n",
       "      <th>8</th>\n",
       "      <th>9</th>\n",
       "    </tr>\n",
       "  </thead>\n",
       "  <tbody>\n",
       "    <tr>\n",
       "      <th>0</th>\n",
       "      <td>ordazlu01</td>\n",
       "      <td>0.0</td>\n",
       "      <td>0.0</td>\n",
       "      <td>0.0</td>\n",
       "      <td>-0.1</td>\n",
       "      <td>0.0</td>\n",
       "      <td>0.0</td>\n",
       "      <td>0.0</td>\n",
       "      <td>0.0</td>\n",
       "      <td>0.0</td>\n",
       "      <td>0.0</td>\n",
       "    </tr>\n",
       "    <tr>\n",
       "      <th>1</th>\n",
       "      <td>distebe01</td>\n",
       "      <td>0.0</td>\n",
       "      <td>0.0</td>\n",
       "      <td>-0.1</td>\n",
       "      <td>0.0</td>\n",
       "      <td>0.0</td>\n",
       "      <td>0.0</td>\n",
       "      <td>0.0</td>\n",
       "      <td>0.0</td>\n",
       "      <td>0.0</td>\n",
       "      <td>0.0</td>\n",
       "    </tr>\n",
       "    <tr>\n",
       "      <th>2</th>\n",
       "      <td>schmimi01</td>\n",
       "      <td>6.2</td>\n",
       "      <td>7.9</td>\n",
       "      <td>8.8</td>\n",
       "      <td>7.7</td>\n",
       "      <td>7.4</td>\n",
       "      <td>6.8</td>\n",
       "      <td>7.0</td>\n",
       "      <td>5.0</td>\n",
       "      <td>6.1</td>\n",
       "      <td>6.1</td>\n",
       "    </tr>\n",
       "    <tr>\n",
       "      <th>3</th>\n",
       "      <td>thomeji01</td>\n",
       "      <td>5.5</td>\n",
       "      <td>3.3</td>\n",
       "      <td>4.5</td>\n",
       "      <td>4.7</td>\n",
       "      <td>5.6</td>\n",
       "      <td>7.4</td>\n",
       "      <td>4.7</td>\n",
       "      <td>3.2</td>\n",
       "      <td>0.2</td>\n",
       "      <td>4.9</td>\n",
       "    </tr>\n",
       "    <tr>\n",
       "      <th>4</th>\n",
       "      <td>diazma02</td>\n",
       "      <td>1.7</td>\n",
       "      <td>0.6</td>\n",
       "      <td>-0.9</td>\n",
       "      <td>-0.8</td>\n",
       "      <td>-0.1</td>\n",
       "      <td>0.0</td>\n",
       "      <td>0.0</td>\n",
       "      <td>0.0</td>\n",
       "      <td>0.0</td>\n",
       "      <td>0.0</td>\n",
       "    </tr>\n",
       "  </tbody>\n",
       "</table>\n",
       "</div>"
      ],
      "text/plain": [
       "   player_id    0    1    2    3    4    5    6    7    8    9\n",
       "0  ordazlu01  0.0  0.0  0.0 -0.1  0.0  0.0  0.0  0.0  0.0  0.0\n",
       "1  distebe01  0.0  0.0 -0.1  0.0  0.0  0.0  0.0  0.0  0.0  0.0\n",
       "2  schmimi01  6.2  7.9  8.8  7.7  7.4  6.8  7.0  5.0  6.1  6.1\n",
       "3  thomeji01  5.5  3.3  4.5  4.7  5.6  7.4  4.7  3.2  0.2  4.9\n",
       "4   diazma02  1.7  0.6 -0.9 -0.8 -0.1  0.0  0.0  0.0  0.0  0.0"
      ]
     },
     "execution_count": 89,
     "metadata": {},
     "output_type": "execute_result"
    }
   ],
   "source": [
    "yvals = pd.read_csv(\"batting_yarr.csv\")\n",
    "# merge code to eliminate mismatches\n",
    "y_bat = pd.merge(yvals, X_bat[[\"player_id\"]], how=\"inner\", left_on=\"player_id\", right_on=\"player_id\")\n",
    "y_bat.head()"
   ]
  },
  {
   "cell_type": "code",
   "execution_count": 160,
   "metadata": {},
   "outputs": [],
   "source": [
    "# cast 0 y values to -1\n",
    "\n",
    "Y = y_bat.as_matrix()\n",
    "Y = y_wars[:,1:]\n",
    "yz_idx = Y == 0\n",
    "Y[yz_idx] = -1\n",
    "y = list(Y[:,0])"
   ]
  },
  {
   "cell_type": "code",
   "execution_count": 161,
   "metadata": {},
   "outputs": [
    {
     "name": "stderr",
     "output_type": "stream",
     "text": [
      "/Users/johollen/anaconda3/lib/python3.6/site-packages/sklearn/utils/validation.py:475: DataConversionWarning: Data with input dtype object was converted to float64 by MinMaxScaler.\n",
      "  warnings.warn(msg, DataConversionWarning)\n"
     ]
    },
    {
     "data": {
      "text/plain": [
       "MinMaxScaler(copy=True, feature_range=(0, 1))"
      ]
     },
     "execution_count": 161,
     "metadata": {},
     "output_type": "execute_result"
    }
   ],
   "source": [
    "from sklearn.preprocessing import MinMaxScaler\n",
    "from sklearn.model_selection import train_test_split\n",
    "\n",
    "X = X_bat.as_matrix()\n",
    "X = X[:,1:] # remove player_id from x\n",
    "#y = list(y_bat['0'])\n",
    "\n",
    "Scaler = MinMaxScaler()\n",
    "Scaler.fit(X)\n"
   ]
  },
  {
   "cell_type": "code",
   "execution_count": 162,
   "metadata": {},
   "outputs": [],
   "source": [
    "from sklearn.feature_selection import SelectKBest\n",
    "from sklearn.feature_selection import f_regression"
   ]
  },
  {
   "cell_type": "code",
   "execution_count": 163,
   "metadata": {},
   "outputs": [],
   "source": [
    "X = Scaler.transform(X)\n",
    "k = 200\n",
    "Xr = SelectKBest(f_regression, k).fit_transform(X, y)\n",
    "# should split data earlier but can't figure out how to save transform from selectkbest\n",
    "Xtrain, Xtest, Ytrain, Ytest = train_test_split(Xr, y, test_size=0.20, random_state=54321)"
   ]
  },
  {
   "cell_type": "code",
   "execution_count": 164,
   "metadata": {},
   "outputs": [
    {
     "name": "stdout",
     "output_type": "stream",
     "text": [
      "{'alpha': 3}\n"
     ]
    },
    {
     "data": {
      "text/plain": [
       "0.53487982880140794"
      ]
     },
     "execution_count": 164,
     "metadata": {},
     "output_type": "execute_result"
    }
   ],
   "source": [
    "from sklearn.neural_network import MLPRegressor\n",
    "from sklearn.tree import DecisionTreeRegressor\n",
    "from sklearn.model_selection import GridSearchCV\n",
    "\n",
    "MLP = MLPRegressor(activation='logistic', hidden_layer_sizes = (5), solver='lbfgs', alpha =1, random_state=54321)\n",
    "param_grid = [0.00001, 0.00003, 0.0001, 0.0003, 0.001, 0.003, 0.01, 0.03, 0.1, 0.3,\n",
    "              1, 3, 10, 30, 100, 300, 1000, 3000, 10000, 30000, 100000]\n",
    "param_dict = {\"alpha\" : param_grid}\n",
    "clf = GridSearchCV(MLP, param_dict, return_train_score=True, scoring='r2')\n",
    "clf.fit(Xtrain, Ytrain)\n",
    "clf.cv_results_\n",
    "print(clf.best_params_)\n",
    "clf.best_score_"
   ]
  },
  {
   "cell_type": "code",
   "execution_count": 165,
   "metadata": {},
   "outputs": [
    {
     "data": {
      "image/png": "[encoded data removed]",
      "text/plain": [
       "<matplotlib.figure.Figure at 0x1a2819deb8>"
      ]
     },
     "metadata": {},
     "output_type": "display_data"
    }
   ],
   "source": [
    "import matplotlib.pyplot as plt\n",
    "\n",
    "Ypred = clf.predict(Xtest)\n",
    "plt.scatter(Ypred, Ytest)\n",
    "plt.plot([-1,6],[-1,6], 'r-')\n",
    "plt.show()"
   ]
  },
  {
   "cell_type": "code",
   "execution_count": 166,
   "metadata": {},
   "outputs": [
    {
     "data": {
      "text/plain": [
       "0.56183697387672638"
      ]
     },
     "execution_count": 166,
     "metadata": {},
     "output_type": "execute_result"
    }
   ],
   "source": [
    "from sklearn.metrics import r2_score\n",
    "\n",
    "r2_score(Ytest, Ypred)"
   ]
  },
  {
   "cell_type": "code",
   "execution_count": 108,
   "metadata": {},
   "outputs": [
    {
     "data": {
      "text/plain": [
       "array([273, 156,  29,   6, 172, 105,  89,  20, 242, 135,   9, 261,  19,\n",
       "        57, 215,  28, 134,  65, 206,   7, 214,  96,  33, 188,  47,  21,\n",
       "       232, 145, 243,  45,   8, 234,  48, 155, 154,  22,  30, 129,  46,\n",
       "        67, 103, 260, 157, 102,  31, 226, 240,  38,   4,  44, 222, 221,\n",
       "       125,  92, 158, 140, 271, 196, 247, 195,  32, 104,  91, 146, 143,\n",
       "        82, 108, 269, 233,  40,  43, 264, 187,  81, 265, 173,  17, 279,\n",
       "       174, 119, 270, 133, 276, 251,  54,  26, 179,  62,  39, 149,  42,\n",
       "        55,  94, 128, 267,  87, 124,  10, 141, 239,  53, 127, 280,  13,\n",
       "       132, 131, 208, 245, 168, 148, 282, 220, 122, 197, 180,  36, 207,\n",
       "       229, 250, 126, 101,  37, 115, 237,  60, 123,  59, 152, 109, 202,\n",
       "       142, 162, 170,  95,  52, 253, 274, 191, 263, 165, 151, 198, 201,\n",
       "       190,  51,  74, 147, 112,  63, 117,  56,  64,  84, 130, 285, 171,\n",
       "       100, 275, 257,  73, 203, 193, 111, 114, 272, 186,  25,  49, 185,\n",
       "        24, 116,   3,  34, 238, 224,  58, 153,  68, 107, 252, 106, 219,\n",
       "        69,  86, 211, 166, 194,  15, 258,  99,  50, 163,  97, 204, 192,\n",
       "       169,  98, 182, 227, 228,  70, 259, 262, 213, 181, 268, 138,  79,\n",
       "         5, 161,  23,  76,  11,  12,  75, 176,  78, 139,  18, 144,  27,\n",
       "       209, 249, 210, 217, 137,   2,  80,  72, 255, 150,  77,  90, 183,\n",
       "       118, 120, 121,  14, 136, 205, 287,  85, 160, 256, 189,  66,  71,\n",
       "       199, 216, 230,  93, 225, 283, 241, 278, 277, 167, 223, 175, 266,\n",
       "        88,  83, 164,  35, 248, 281, 218, 244,   1,  16, 184, 286,  61,\n",
       "       110, 178,  41, 246, 159, 200, 288, 212, 235, 113, 231, 254, 236,\n",
       "       177, 284])"
      ]
     },
     "execution_count": 108,
     "metadata": {},
     "output_type": "execute_result"
    }
   ],
   "source": [
    "from sklearn.feature_selection import RFE\n",
    "#nn = MLPRegressor(activation='logistic', hidden_layer_sizes = (5), solver='lbfgs', alpha =3, random_state=54321)\n",
    "from sklearn.linear_model import Ridge\n",
    "#nnRFE = RFE(nn, n_features_to_select=100, step=1)\n",
    "rr = Ridge(alpha=2)\n",
    "feat = 1\n",
    "rrRFE = RFE(rr, n_features_to_select=feat, step=1)\n",
    "rrRFE.fit(X, y)\n",
    "rrRFE.ranking_"
   ]
  },
  {
   "cell_type": "code",
   "execution_count": 109,
   "metadata": {},
   "outputs": [
    {
     "data": {
      "text/plain": [
       "Index(['war', 'war-5', 'hr-4', 'hr-1', 'r-5', 'r-0', 'pa-0', 'cs_per_ob-0',\n",
       "       'cs-0', 'sh-2',\n",
       "       ...\n",
       "       'rc-1', 'tb-2', 'ob', 'rbi_per_ab-2', 'double', 'pa_per_so',\n",
       "       'sb_ratio-3', 'batting_avg', 'obp-5', 'bb_per_pa'],\n",
       "      dtype='object', length=288)"
      ]
     },
     "execution_count": 109,
     "metadata": {},
     "output_type": "execute_result"
    }
   ],
   "source": [
    "cols = X_bat.columns[1:]\n",
    "colindex = np.argsort(rrRFE.ranking_)\n",
    "cols[colindex]"
   ]
  },
  {
   "cell_type": "code",
   "execution_count": 110,
   "metadata": {},
   "outputs": [
    {
     "data": {
      "image/png": "[encoded data removed]",
      "text/plain": [
       "<matplotlib.figure.Figure at 0x1a25c90240>"
      ]
     },
     "metadata": {},
     "output_type": "display_data"
    },
    {
     "name": "stdout",
     "output_type": "stream",
     "text": [
      "8655\n",
      "2436\n"
     ]
    },
    {
     "data": {
      "text/plain": [
       "(1669, 10)"
      ]
     },
     "execution_count": 110,
     "metadata": {},
     "output_type": "execute_result"
    }
   ],
   "source": [
    "y_wars = y_bat.as_matrix()\n",
    "y_wars = y_wars[:,1:]\n",
    "y_negs = y_wars[y_wars < 0]\n",
    "yn = list(y_negs)\n",
    "plt.hist(yn)\n",
    "plt.show()\n",
    "print(len(y_wars[y_wars == 0]))\n",
    "print(len(y_negs))\n",
    "y_wars.shape"
   ]
  },
  {
   "cell_type": "code",
   "execution_count": null,
   "metadata": {
    "collapsed": true
   },
   "outputs": [],
   "source": []
  },
  {
   "cell_type": "code",
   "execution_count": null,
   "metadata": {
    "collapsed": true
   },
   "outputs": [],
   "source": []
  }
 ],
 "metadata": {
  "kernelspec": {
   "display_name": "Python 3",
   "language": "python",
   "name": "python3"
  },
  "language_info": {
   "codemirror_mode": {
    "name": "ipython",
    "version": 3
   },
   "file_extension": ".py",
   "mimetype": "text/x-python",
   "name": "python",
   "nbconvert_exporter": "python",
   "pygments_lexer": "ipython3",
   "version": "3.6.3"
  }
 },
 "nbformat": 4,
 "nbformat_minor": 2
}
