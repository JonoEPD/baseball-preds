{
 "cells": [
  {
   "cell_type": "code",
   "execution_count": 480,
   "metadata": {
    "collapsed": true
   },
   "outputs": [],
   "source": [
    "import pandas as pd\n",
    "import numpy as np"
   ]
  },
  {
   "cell_type": "code",
   "execution_count": 481,
   "metadata": {},
   "outputs": [
    {
     "data": {
      "text/html": [
       "<div>\n",
       "<table border=\"1\" class=\"dataframe\">\n",
       "  <thead>\n",
       "    <tr style=\"text-align: right;\">\n",
       "      <th></th>\n",
       "      <th>Unnamed: 0</th>\n",
       "      <th>Unnamed: 0.1</th>\n",
       "      <th>player_id</th>\n",
       "      <th>year-0</th>\n",
       "      <th>g-0</th>\n",
       "      <th>w-0</th>\n",
       "      <th>l-0</th>\n",
       "      <th>gs-0</th>\n",
       "      <th>cg-0</th>\n",
       "      <th>sho-0</th>\n",
       "      <th>...</th>\n",
       "      <th>cg_per_g</th>\n",
       "      <th>sho_per_g</th>\n",
       "      <th>sv_per_g</th>\n",
       "      <th>ipouts_per_g</th>\n",
       "      <th>bb_per_bfp</th>\n",
       "      <th>hbp_per_bfp</th>\n",
       "      <th>hr_per_tbf</th>\n",
       "      <th>so_per_tbf</th>\n",
       "      <th>wp_per_bfp</th>\n",
       "      <th>so_per_bb</th>\n",
       "    </tr>\n",
       "  </thead>\n",
       "  <tbody>\n",
       "    <tr>\n",
       "      <th>0</th>\n",
       "      <td>0</td>\n",
       "      <td>0</td>\n",
       "      <td>hamiljo02</td>\n",
       "      <td>1994</td>\n",
       "      <td>16</td>\n",
       "      <td>9</td>\n",
       "      <td>6</td>\n",
       "      <td>16</td>\n",
       "      <td>1</td>\n",
       "      <td>1</td>\n",
       "      <td>...</td>\n",
       "      <td>0.041667</td>\n",
       "      <td>0.023810</td>\n",
       "      <td>0.000000</td>\n",
       "      <td>18.440476</td>\n",
       "      <td>0.086152</td>\n",
       "      <td>0.011051</td>\n",
       "      <td>0.023233</td>\n",
       "      <td>0.173620</td>\n",
       "      <td>0.008345</td>\n",
       "      <td>1.819372</td>\n",
       "    </tr>\n",
       "    <tr>\n",
       "      <th>1</th>\n",
       "      <td>1</td>\n",
       "      <td>1</td>\n",
       "      <td>nelsojo01</td>\n",
       "      <td>2001</td>\n",
       "      <td>2</td>\n",
       "      <td>0</td>\n",
       "      <td>0</td>\n",
       "      <td>0</td>\n",
       "      <td>0</td>\n",
       "      <td>0</td>\n",
       "      <td>...</td>\n",
       "      <td>0.000000</td>\n",
       "      <td>0.000000</td>\n",
       "      <td>0.187500</td>\n",
       "      <td>3.083333</td>\n",
       "      <td>0.128319</td>\n",
       "      <td>0.017699</td>\n",
       "      <td>0.032086</td>\n",
       "      <td>0.262032</td>\n",
       "      <td>0.004425</td>\n",
       "      <td>1.689655</td>\n",
       "    </tr>\n",
       "    <tr>\n",
       "      <th>2</th>\n",
       "      <td>2</td>\n",
       "      <td>2</td>\n",
       "      <td>lopezro01</td>\n",
       "      <td>2000</td>\n",
       "      <td>6</td>\n",
       "      <td>0</td>\n",
       "      <td>3</td>\n",
       "      <td>6</td>\n",
       "      <td>0</td>\n",
       "      <td>0</td>\n",
       "      <td>...</td>\n",
       "      <td>0.036496</td>\n",
       "      <td>0.014599</td>\n",
       "      <td>0.000000</td>\n",
       "      <td>16.386861</td>\n",
       "      <td>0.072891</td>\n",
       "      <td>0.007444</td>\n",
       "      <td>0.034436</td>\n",
       "      <td>0.168769</td>\n",
       "      <td>0.004032</td>\n",
       "      <td>2.106383</td>\n",
       "    </tr>\n",
       "    <tr>\n",
       "      <th>3</th>\n",
       "      <td>3</td>\n",
       "      <td>3</td>\n",
       "      <td>spradje01</td>\n",
       "      <td>1993</td>\n",
       "      <td>37</td>\n",
       "      <td>2</td>\n",
       "      <td>1</td>\n",
       "      <td>0</td>\n",
       "      <td>0</td>\n",
       "      <td>0</td>\n",
       "      <td>...</td>\n",
       "      <td>0.000000</td>\n",
       "      <td>0.000000</td>\n",
       "      <td>0.021164</td>\n",
       "      <td>3.502645</td>\n",
       "      <td>0.064732</td>\n",
       "      <td>0.003348</td>\n",
       "      <td>0.028743</td>\n",
       "      <td>0.204790</td>\n",
       "      <td>0.016741</td>\n",
       "      <td>2.948276</td>\n",
       "    </tr>\n",
       "    <tr>\n",
       "      <th>4</th>\n",
       "      <td>4</td>\n",
       "      <td>4</td>\n",
       "      <td>powelde01</td>\n",
       "      <td>1985</td>\n",
       "      <td>16</td>\n",
       "      <td>1</td>\n",
       "      <td>1</td>\n",
       "      <td>2</td>\n",
       "      <td>0</td>\n",
       "      <td>0</td>\n",
       "      <td>...</td>\n",
       "      <td>0.000000</td>\n",
       "      <td>0.000000</td>\n",
       "      <td>0.024000</td>\n",
       "      <td>5.640000</td>\n",
       "      <td>0.099812</td>\n",
       "      <td>0.007533</td>\n",
       "      <td>0.024262</td>\n",
       "      <td>0.139241</td>\n",
       "      <td>0.012241</td>\n",
       "      <td>1.245283</td>\n",
       "    </tr>\n",
       "  </tbody>\n",
       "</table>\n",
       "<p>5 rows × 289 columns</p>\n",
       "</div>"
      ],
      "text/plain": [
       "   Unnamed: 0  Unnamed: 0.1  player_id  year-0  g-0  w-0  l-0  gs-0  cg-0  \\\n",
       "0           0             0  hamiljo02    1994   16    9    6    16     1   \n",
       "1           1             1  nelsojo01    2001    2    0    0     0     0   \n",
       "2           2             2  lopezro01    2000    6    0    3     6     0   \n",
       "3           3             3  spradje01    1993   37    2    1     0     0   \n",
       "4           4             4  powelde01    1985   16    1    1     2     0   \n",
       "\n",
       "   sho-0    ...      cg_per_g  sho_per_g  sv_per_g  ipouts_per_g  bb_per_bfp  \\\n",
       "0      1    ...      0.041667   0.023810  0.000000     18.440476    0.086152   \n",
       "1      0    ...      0.000000   0.000000  0.187500      3.083333    0.128319   \n",
       "2      0    ...      0.036496   0.014599  0.000000     16.386861    0.072891   \n",
       "3      0    ...      0.000000   0.000000  0.021164      3.502645    0.064732   \n",
       "4      0    ...      0.000000   0.000000  0.024000      5.640000    0.099812   \n",
       "\n",
       "   hbp_per_bfp  hr_per_tbf  so_per_tbf  wp_per_bfp  so_per_bb  \n",
       "0     0.011051    0.023233    0.173620    0.008345   1.819372  \n",
       "1     0.017699    0.032086    0.262032    0.004425   1.689655  \n",
       "2     0.007444    0.034436    0.168769    0.004032   2.106383  \n",
       "3     0.003348    0.028743    0.204790    0.016741   2.948276  \n",
       "4     0.007533    0.024262    0.139241    0.012241   1.245283  \n",
       "\n",
       "[5 rows x 289 columns]"
      ]
     },
     "execution_count": 481,
     "metadata": {},
     "output_type": "execute_result"
    }
   ],
   "source": [
    "data = pd.read_csv(\"pitching_stacked_hwh.csv\")\n",
    "agg = pd.read_csv(\"pitching_agg.csv\")\n",
    "data = pd.merge(data, agg, how=\"inner\", left_on=\"player_id\", right_on=\"player_id\")\n",
    "data.head()"
   ]
  },
  {
   "cell_type": "code",
   "execution_count": 482,
   "metadata": {
    "collapsed": true
   },
   "outputs": [],
   "source": [
    "for_drop = [\"Unnamed: 0\", \"Unnamed: 0.1\"]\n",
    "data = data.drop(for_drop, axis = 1)"
   ]
  },
  {
   "cell_type": "code",
   "execution_count": 483,
   "metadata": {},
   "outputs": [
    {
     "data": {
      "text/html": [
       "<div>\n",
       "<table border=\"1\" class=\"dataframe\">\n",
       "  <thead>\n",
       "    <tr style=\"text-align: right;\">\n",
       "      <th></th>\n",
       "      <th>player_id</th>\n",
       "      <th>0</th>\n",
       "      <th>1</th>\n",
       "      <th>2</th>\n",
       "      <th>3</th>\n",
       "      <th>4</th>\n",
       "      <th>5</th>\n",
       "      <th>6</th>\n",
       "      <th>7</th>\n",
       "      <th>8</th>\n",
       "    </tr>\n",
       "  </thead>\n",
       "  <tbody>\n",
       "    <tr>\n",
       "      <th>0</th>\n",
       "      <td>hamiljo02</td>\n",
       "      <td>1.2</td>\n",
       "      <td>-0.5</td>\n",
       "      <td>-0.3</td>\n",
       "      <td>-0.3</td>\n",
       "      <td>0.0</td>\n",
       "      <td>0.0</td>\n",
       "      <td>0.0</td>\n",
       "      <td>0</td>\n",
       "      <td>0</td>\n",
       "    </tr>\n",
       "    <tr>\n",
       "      <th>1</th>\n",
       "      <td>nelsojo01</td>\n",
       "      <td>0.0</td>\n",
       "      <td>1.6</td>\n",
       "      <td>0.0</td>\n",
       "      <td>-0.3</td>\n",
       "      <td>0.0</td>\n",
       "      <td>0.0</td>\n",
       "      <td>0.0</td>\n",
       "      <td>0</td>\n",
       "      <td>0</td>\n",
       "    </tr>\n",
       "    <tr>\n",
       "      <th>2</th>\n",
       "      <td>lopezro01</td>\n",
       "      <td>-0.1</td>\n",
       "      <td>1.0</td>\n",
       "      <td>0.0</td>\n",
       "      <td>-0.7</td>\n",
       "      <td>-0.7</td>\n",
       "      <td>0.1</td>\n",
       "      <td>-0.2</td>\n",
       "      <td>0</td>\n",
       "      <td>0</td>\n",
       "    </tr>\n",
       "    <tr>\n",
       "      <th>3</th>\n",
       "      <td>spradje01</td>\n",
       "      <td>0.3</td>\n",
       "      <td>-0.7</td>\n",
       "      <td>0.0</td>\n",
       "      <td>0.0</td>\n",
       "      <td>0.0</td>\n",
       "      <td>0.0</td>\n",
       "      <td>0.0</td>\n",
       "      <td>0</td>\n",
       "      <td>0</td>\n",
       "    </tr>\n",
       "    <tr>\n",
       "      <th>4</th>\n",
       "      <td>powelde01</td>\n",
       "      <td>0.0</td>\n",
       "      <td>0.2</td>\n",
       "      <td>0.6</td>\n",
       "      <td>0.0</td>\n",
       "      <td>0.0</td>\n",
       "      <td>0.0</td>\n",
       "      <td>0.0</td>\n",
       "      <td>0</td>\n",
       "      <td>0</td>\n",
       "    </tr>\n",
       "  </tbody>\n",
       "</table>\n",
       "</div>"
      ],
      "text/plain": [
       "   player_id    0    1    2    3    4    5    6  7  8\n",
       "0  hamiljo02  1.2 -0.5 -0.3 -0.3  0.0  0.0  0.0  0  0\n",
       "1  nelsojo01  0.0  1.6  0.0 -0.3  0.0  0.0  0.0  0  0\n",
       "2  lopezro01 -0.1  1.0  0.0 -0.7 -0.7  0.1 -0.2  0  0\n",
       "3  spradje01  0.3 -0.7  0.0  0.0  0.0  0.0  0.0  0  0\n",
       "4  powelde01  0.0  0.2  0.6  0.0  0.0  0.0  0.0  0  0"
      ]
     },
     "execution_count": 483,
     "metadata": {},
     "output_type": "execute_result"
    }
   ],
   "source": [
    "yvals = pd.read_csv(\"pitching_yarr.csv\")\n",
    "yvals.head()"
   ]
  },
  {
   "cell_type": "code",
   "execution_count": 484,
   "metadata": {},
   "outputs": [
    {
     "data": {
      "text/plain": [
       "array(['hamiljo02', 'nelsojo01', 'lopezro01', ..., 'radkebr01',\n",
       "       'norribu01', 'whitema02'], dtype=object)"
      ]
     },
     "execution_count": 484,
     "metadata": {},
     "output_type": "execute_result"
    }
   ],
   "source": [
    "yvals = pd.merge(yvals, data[[\"player_id\"]], how = \"inner\", left_on=\"player_id\", right_on = \"player_id\")\n",
    "yvals.head()\n",
    "\n",
    "year = data[\"year-0\"]\n",
    "year.head()\n",
    "year = year.as_matrix()\n",
    "\n",
    "pids = data[\"player_id\"]\n",
    "pids = pids.as_matrix()\n",
    "pids"
   ]
  },
  {
   "cell_type": "code",
   "execution_count": 485,
   "metadata": {},
   "outputs": [
    {
     "data": {
      "text/plain": [
       "array([-0.3, -0.3, -0.7,  0. ,  0. ])"
      ]
     },
     "execution_count": 485,
     "metadata": {},
     "output_type": "execute_result"
    }
   ],
   "source": [
    "y = yvals[\"3\"].as_matrix()\n",
    "y[0:5]"
   ]
  },
  {
   "cell_type": "code",
   "execution_count": 486,
   "metadata": {},
   "outputs": [],
   "source": [
    "data[\"HW_ratio\"] = data[\"height\"] / data[\"weight\"]\n",
    "\n",
    "data = data.drop(\"bats\", axis = 1)"
   ]
  },
  {
   "cell_type": "code",
   "execution_count": 487,
   "metadata": {},
   "outputs": [
    {
     "data": {
      "text/html": [
       "<div>\n",
       "<table border=\"1\" class=\"dataframe\">\n",
       "  <thead>\n",
       "    <tr style=\"text-align: right;\">\n",
       "      <th></th>\n",
       "      <th>player_id</th>\n",
       "      <th>g-0</th>\n",
       "      <th>w-0</th>\n",
       "      <th>l-0</th>\n",
       "      <th>gs-0</th>\n",
       "      <th>cg-0</th>\n",
       "      <th>sho-0</th>\n",
       "      <th>sv-0</th>\n",
       "      <th>ipouts-0</th>\n",
       "      <th>h-0</th>\n",
       "      <th>...</th>\n",
       "      <th>sv_per_g</th>\n",
       "      <th>ipouts_per_g</th>\n",
       "      <th>bb_per_bfp</th>\n",
       "      <th>hbp_per_bfp</th>\n",
       "      <th>hr_per_tbf</th>\n",
       "      <th>so_per_tbf</th>\n",
       "      <th>wp_per_bfp</th>\n",
       "      <th>so_per_bb</th>\n",
       "      <th>HW_ratio</th>\n",
       "      <th>decade</th>\n",
       "    </tr>\n",
       "  </thead>\n",
       "  <tbody>\n",
       "    <tr>\n",
       "      <th>0</th>\n",
       "      <td>hamiljo02</td>\n",
       "      <td>16</td>\n",
       "      <td>9</td>\n",
       "      <td>6</td>\n",
       "      <td>16</td>\n",
       "      <td>1</td>\n",
       "      <td>1</td>\n",
       "      <td>0</td>\n",
       "      <td>326</td>\n",
       "      <td>98</td>\n",
       "      <td>...</td>\n",
       "      <td>0.000000</td>\n",
       "      <td>18.440476</td>\n",
       "      <td>0.086152</td>\n",
       "      <td>0.011051</td>\n",
       "      <td>0.023233</td>\n",
       "      <td>0.173620</td>\n",
       "      <td>0.008345</td>\n",
       "      <td>1.819372</td>\n",
       "      <td>0.345455</td>\n",
       "      <td>2</td>\n",
       "    </tr>\n",
       "    <tr>\n",
       "      <th>1</th>\n",
       "      <td>nelsojo01</td>\n",
       "      <td>2</td>\n",
       "      <td>0</td>\n",
       "      <td>0</td>\n",
       "      <td>0</td>\n",
       "      <td>0</td>\n",
       "      <td>0</td>\n",
       "      <td>0</td>\n",
       "      <td>6</td>\n",
       "      <td>7</td>\n",
       "      <td>...</td>\n",
       "      <td>0.187500</td>\n",
       "      <td>3.083333</td>\n",
       "      <td>0.128319</td>\n",
       "      <td>0.017699</td>\n",
       "      <td>0.032086</td>\n",
       "      <td>0.262032</td>\n",
       "      <td>0.004425</td>\n",
       "      <td>1.689655</td>\n",
       "      <td>0.400000</td>\n",
       "      <td>3</td>\n",
       "    </tr>\n",
       "    <tr>\n",
       "      <th>2</th>\n",
       "      <td>lopezro01</td>\n",
       "      <td>6</td>\n",
       "      <td>0</td>\n",
       "      <td>3</td>\n",
       "      <td>6</td>\n",
       "      <td>0</td>\n",
       "      <td>0</td>\n",
       "      <td>0</td>\n",
       "      <td>74</td>\n",
       "      <td>40</td>\n",
       "      <td>...</td>\n",
       "      <td>0.000000</td>\n",
       "      <td>16.386861</td>\n",
       "      <td>0.072891</td>\n",
       "      <td>0.007444</td>\n",
       "      <td>0.034436</td>\n",
       "      <td>0.168769</td>\n",
       "      <td>0.004032</td>\n",
       "      <td>2.106383</td>\n",
       "      <td>0.394595</td>\n",
       "      <td>3</td>\n",
       "    </tr>\n",
       "    <tr>\n",
       "      <th>3</th>\n",
       "      <td>spradje01</td>\n",
       "      <td>37</td>\n",
       "      <td>2</td>\n",
       "      <td>1</td>\n",
       "      <td>0</td>\n",
       "      <td>0</td>\n",
       "      <td>0</td>\n",
       "      <td>2</td>\n",
       "      <td>147</td>\n",
       "      <td>44</td>\n",
       "      <td>...</td>\n",
       "      <td>0.021164</td>\n",
       "      <td>3.502645</td>\n",
       "      <td>0.064732</td>\n",
       "      <td>0.003348</td>\n",
       "      <td>0.028743</td>\n",
       "      <td>0.204790</td>\n",
       "      <td>0.016741</td>\n",
       "      <td>2.948276</td>\n",
       "      <td>0.343478</td>\n",
       "      <td>2</td>\n",
       "    </tr>\n",
       "    <tr>\n",
       "      <th>4</th>\n",
       "      <td>powelde01</td>\n",
       "      <td>16</td>\n",
       "      <td>1</td>\n",
       "      <td>1</td>\n",
       "      <td>2</td>\n",
       "      <td>0</td>\n",
       "      <td>0</td>\n",
       "      <td>1</td>\n",
       "      <td>88</td>\n",
       "      <td>30</td>\n",
       "      <td>...</td>\n",
       "      <td>0.024000</td>\n",
       "      <td>5.640000</td>\n",
       "      <td>0.099812</td>\n",
       "      <td>0.007533</td>\n",
       "      <td>0.024262</td>\n",
       "      <td>0.139241</td>\n",
       "      <td>0.012241</td>\n",
       "      <td>1.245283</td>\n",
       "      <td>0.428571</td>\n",
       "      <td>1</td>\n",
       "    </tr>\n",
       "  </tbody>\n",
       "</table>\n",
       "<p>5 rows × 287 columns</p>\n",
       "</div>"
      ],
      "text/plain": [
       "   player_id  g-0  w-0  l-0  gs-0  cg-0  sho-0  sv-0  ipouts-0  h-0   ...    \\\n",
       "0  hamiljo02   16    9    6    16     1      1     0       326   98   ...     \n",
       "1  nelsojo01    2    0    0     0     0      0     0         6    7   ...     \n",
       "2  lopezro01    6    0    3     6     0      0     0        74   40   ...     \n",
       "3  spradje01   37    2    1     0     0      0     2       147   44   ...     \n",
       "4  powelde01   16    1    1     2     0      0     1        88   30   ...     \n",
       "\n",
       "   sv_per_g  ipouts_per_g  bb_per_bfp  hbp_per_bfp  hr_per_tbf  so_per_tbf  \\\n",
       "0  0.000000     18.440476    0.086152     0.011051    0.023233    0.173620   \n",
       "1  0.187500      3.083333    0.128319     0.017699    0.032086    0.262032   \n",
       "2  0.000000     16.386861    0.072891     0.007444    0.034436    0.168769   \n",
       "3  0.021164      3.502645    0.064732     0.003348    0.028743    0.204790   \n",
       "4  0.024000      5.640000    0.099812     0.007533    0.024262    0.139241   \n",
       "\n",
       "   wp_per_bfp  so_per_bb  HW_ratio  decade  \n",
       "0    0.008345   1.819372  0.345455       2  \n",
       "1    0.004425   1.689655  0.400000       3  \n",
       "2    0.004032   2.106383  0.394595       3  \n",
       "3    0.016741   2.948276  0.343478       2  \n",
       "4    0.012241   1.245283  0.428571       1  \n",
       "\n",
       "[5 rows x 287 columns]"
      ]
     },
     "execution_count": 487,
     "metadata": {},
     "output_type": "execute_result"
    }
   ],
   "source": [
    "data[\"decade\"] = np.floor((data[\"year-0\"] - 1970)/10)\n",
    "\n",
    "data = data.drop(\"year-0\", axis=1)\n",
    "data.head()"
   ]
  },
  {
   "cell_type": "code",
   "execution_count": 488,
   "metadata": {},
   "outputs": [
    {
     "data": {
      "text/html": [
       "<div>\n",
       "<table border=\"1\" class=\"dataframe\">\n",
       "  <thead>\n",
       "    <tr style=\"text-align: right;\">\n",
       "      <th></th>\n",
       "      <th>0</th>\n",
       "      <th>1</th>\n",
       "      <th>2</th>\n",
       "      <th>3</th>\n",
       "    </tr>\n",
       "  </thead>\n",
       "  <tbody>\n",
       "    <tr>\n",
       "      <th>0</th>\n",
       "      <td>0</td>\n",
       "      <td>0</td>\n",
       "      <td>1</td>\n",
       "      <td>0</td>\n",
       "    </tr>\n",
       "    <tr>\n",
       "      <th>1</th>\n",
       "      <td>0</td>\n",
       "      <td>0</td>\n",
       "      <td>0</td>\n",
       "      <td>1</td>\n",
       "    </tr>\n",
       "    <tr>\n",
       "      <th>2</th>\n",
       "      <td>0</td>\n",
       "      <td>0</td>\n",
       "      <td>0</td>\n",
       "      <td>1</td>\n",
       "    </tr>\n",
       "    <tr>\n",
       "      <th>3</th>\n",
       "      <td>0</td>\n",
       "      <td>0</td>\n",
       "      <td>1</td>\n",
       "      <td>0</td>\n",
       "    </tr>\n",
       "    <tr>\n",
       "      <th>4</th>\n",
       "      <td>0</td>\n",
       "      <td>1</td>\n",
       "      <td>0</td>\n",
       "      <td>0</td>\n",
       "    </tr>\n",
       "  </tbody>\n",
       "</table>\n",
       "</div>"
      ],
      "text/plain": [
       "   0  1  2  3\n",
       "0  0  0  1  0\n",
       "1  0  0  0  1\n",
       "2  0  0  0  1\n",
       "3  0  0  1  0\n",
       "4  0  1  0  0"
      ]
     },
     "execution_count": 488,
     "metadata": {},
     "output_type": "execute_result"
    }
   ],
   "source": [
    "from sklearn.preprocessing import LabelBinarizer\n",
    "lb = LabelBinarizer()\n",
    "lb.fit(data[\"decade\"])\n",
    "binarized = lb.transform(data[\"decade\"])\n",
    "bins = pd.DataFrame(binarized)\n",
    "bins.head()"
   ]
  },
  {
   "cell_type": "code",
   "execution_count": 489,
   "metadata": {},
   "outputs": [
    {
     "data": {
      "text/html": [
       "<div>\n",
       "<table border=\"1\" class=\"dataframe\">\n",
       "  <thead>\n",
       "    <tr style=\"text-align: right;\">\n",
       "      <th></th>\n",
       "      <th>1970s</th>\n",
       "      <th>1980s</th>\n",
       "      <th>1990s</th>\n",
       "      <th>2000s</th>\n",
       "    </tr>\n",
       "  </thead>\n",
       "  <tbody>\n",
       "    <tr>\n",
       "      <th>0</th>\n",
       "      <td>0</td>\n",
       "      <td>0</td>\n",
       "      <td>1</td>\n",
       "      <td>0</td>\n",
       "    </tr>\n",
       "    <tr>\n",
       "      <th>1</th>\n",
       "      <td>0</td>\n",
       "      <td>0</td>\n",
       "      <td>0</td>\n",
       "      <td>1</td>\n",
       "    </tr>\n",
       "    <tr>\n",
       "      <th>2</th>\n",
       "      <td>0</td>\n",
       "      <td>0</td>\n",
       "      <td>0</td>\n",
       "      <td>1</td>\n",
       "    </tr>\n",
       "    <tr>\n",
       "      <th>3</th>\n",
       "      <td>0</td>\n",
       "      <td>0</td>\n",
       "      <td>1</td>\n",
       "      <td>0</td>\n",
       "    </tr>\n",
       "    <tr>\n",
       "      <th>4</th>\n",
       "      <td>0</td>\n",
       "      <td>1</td>\n",
       "      <td>0</td>\n",
       "      <td>0</td>\n",
       "    </tr>\n",
       "  </tbody>\n",
       "</table>\n",
       "</div>"
      ],
      "text/plain": [
       "   1970s  1980s  1990s  2000s\n",
       "0      0      0      1      0\n",
       "1      0      0      0      1\n",
       "2      0      0      0      1\n",
       "3      0      0      1      0\n",
       "4      0      1      0      0"
      ]
     },
     "execution_count": 489,
     "metadata": {},
     "output_type": "execute_result"
    }
   ],
   "source": [
    "bins = bins.rename(columns = {0 : \"1970s\", 1 : \"1980s\", 2 : \"1990s\", 3 : \"2000s\"})\n",
    "bins.head()"
   ]
  },
  {
   "cell_type": "code",
   "execution_count": 490,
   "metadata": {},
   "outputs": [
    {
     "data": {
      "text/html": [
       "<div>\n",
       "<table border=\"1\" class=\"dataframe\">\n",
       "  <thead>\n",
       "    <tr style=\"text-align: right;\">\n",
       "      <th></th>\n",
       "      <th>player_id</th>\n",
       "      <th>g-0</th>\n",
       "      <th>w-0</th>\n",
       "      <th>l-0</th>\n",
       "      <th>gs-0</th>\n",
       "      <th>cg-0</th>\n",
       "      <th>sho-0</th>\n",
       "      <th>sv-0</th>\n",
       "      <th>ipouts-0</th>\n",
       "      <th>h-0</th>\n",
       "      <th>...</th>\n",
       "      <th>hbp_per_bfp</th>\n",
       "      <th>hr_per_tbf</th>\n",
       "      <th>so_per_tbf</th>\n",
       "      <th>wp_per_bfp</th>\n",
       "      <th>so_per_bb</th>\n",
       "      <th>HW_ratio</th>\n",
       "      <th>1970s</th>\n",
       "      <th>1980s</th>\n",
       "      <th>1990s</th>\n",
       "      <th>2000s</th>\n",
       "    </tr>\n",
       "  </thead>\n",
       "  <tbody>\n",
       "    <tr>\n",
       "      <th>0</th>\n",
       "      <td>hamiljo02</td>\n",
       "      <td>16</td>\n",
       "      <td>9</td>\n",
       "      <td>6</td>\n",
       "      <td>16</td>\n",
       "      <td>1</td>\n",
       "      <td>1</td>\n",
       "      <td>0</td>\n",
       "      <td>326</td>\n",
       "      <td>98</td>\n",
       "      <td>...</td>\n",
       "      <td>0.011051</td>\n",
       "      <td>0.023233</td>\n",
       "      <td>0.173620</td>\n",
       "      <td>0.008345</td>\n",
       "      <td>1.819372</td>\n",
       "      <td>0.345455</td>\n",
       "      <td>0</td>\n",
       "      <td>0</td>\n",
       "      <td>1</td>\n",
       "      <td>0</td>\n",
       "    </tr>\n",
       "    <tr>\n",
       "      <th>1</th>\n",
       "      <td>nelsojo01</td>\n",
       "      <td>2</td>\n",
       "      <td>0</td>\n",
       "      <td>0</td>\n",
       "      <td>0</td>\n",
       "      <td>0</td>\n",
       "      <td>0</td>\n",
       "      <td>0</td>\n",
       "      <td>6</td>\n",
       "      <td>7</td>\n",
       "      <td>...</td>\n",
       "      <td>0.017699</td>\n",
       "      <td>0.032086</td>\n",
       "      <td>0.262032</td>\n",
       "      <td>0.004425</td>\n",
       "      <td>1.689655</td>\n",
       "      <td>0.400000</td>\n",
       "      <td>0</td>\n",
       "      <td>0</td>\n",
       "      <td>0</td>\n",
       "      <td>1</td>\n",
       "    </tr>\n",
       "    <tr>\n",
       "      <th>2</th>\n",
       "      <td>lopezro01</td>\n",
       "      <td>6</td>\n",
       "      <td>0</td>\n",
       "      <td>3</td>\n",
       "      <td>6</td>\n",
       "      <td>0</td>\n",
       "      <td>0</td>\n",
       "      <td>0</td>\n",
       "      <td>74</td>\n",
       "      <td>40</td>\n",
       "      <td>...</td>\n",
       "      <td>0.007444</td>\n",
       "      <td>0.034436</td>\n",
       "      <td>0.168769</td>\n",
       "      <td>0.004032</td>\n",
       "      <td>2.106383</td>\n",
       "      <td>0.394595</td>\n",
       "      <td>0</td>\n",
       "      <td>0</td>\n",
       "      <td>0</td>\n",
       "      <td>1</td>\n",
       "    </tr>\n",
       "    <tr>\n",
       "      <th>3</th>\n",
       "      <td>spradje01</td>\n",
       "      <td>37</td>\n",
       "      <td>2</td>\n",
       "      <td>1</td>\n",
       "      <td>0</td>\n",
       "      <td>0</td>\n",
       "      <td>0</td>\n",
       "      <td>2</td>\n",
       "      <td>147</td>\n",
       "      <td>44</td>\n",
       "      <td>...</td>\n",
       "      <td>0.003348</td>\n",
       "      <td>0.028743</td>\n",
       "      <td>0.204790</td>\n",
       "      <td>0.016741</td>\n",
       "      <td>2.948276</td>\n",
       "      <td>0.343478</td>\n",
       "      <td>0</td>\n",
       "      <td>0</td>\n",
       "      <td>1</td>\n",
       "      <td>0</td>\n",
       "    </tr>\n",
       "    <tr>\n",
       "      <th>4</th>\n",
       "      <td>powelde01</td>\n",
       "      <td>16</td>\n",
       "      <td>1</td>\n",
       "      <td>1</td>\n",
       "      <td>2</td>\n",
       "      <td>0</td>\n",
       "      <td>0</td>\n",
       "      <td>1</td>\n",
       "      <td>88</td>\n",
       "      <td>30</td>\n",
       "      <td>...</td>\n",
       "      <td>0.007533</td>\n",
       "      <td>0.024262</td>\n",
       "      <td>0.139241</td>\n",
       "      <td>0.012241</td>\n",
       "      <td>1.245283</td>\n",
       "      <td>0.428571</td>\n",
       "      <td>0</td>\n",
       "      <td>1</td>\n",
       "      <td>0</td>\n",
       "      <td>0</td>\n",
       "    </tr>\n",
       "  </tbody>\n",
       "</table>\n",
       "<p>5 rows × 290 columns</p>\n",
       "</div>"
      ],
      "text/plain": [
       "   player_id  g-0  w-0  l-0  gs-0  cg-0  sho-0  sv-0  ipouts-0  h-0  ...    \\\n",
       "0  hamiljo02   16    9    6    16     1      1     0       326   98  ...     \n",
       "1  nelsojo01    2    0    0     0     0      0     0         6    7  ...     \n",
       "2  lopezro01    6    0    3     6     0      0     0        74   40  ...     \n",
       "3  spradje01   37    2    1     0     0      0     2       147   44  ...     \n",
       "4  powelde01   16    1    1     2     0      0     1        88   30  ...     \n",
       "\n",
       "   hbp_per_bfp  hr_per_tbf  so_per_tbf  wp_per_bfp  so_per_bb  HW_ratio  \\\n",
       "0     0.011051    0.023233    0.173620    0.008345   1.819372  0.345455   \n",
       "1     0.017699    0.032086    0.262032    0.004425   1.689655  0.400000   \n",
       "2     0.007444    0.034436    0.168769    0.004032   2.106383  0.394595   \n",
       "3     0.003348    0.028743    0.204790    0.016741   2.948276  0.343478   \n",
       "4     0.007533    0.024262    0.139241    0.012241   1.245283  0.428571   \n",
       "\n",
       "   1970s  1980s  1990s  2000s  \n",
       "0      0      0      1      0  \n",
       "1      0      0      0      1  \n",
       "2      0      0      0      1  \n",
       "3      0      0      1      0  \n",
       "4      0      1      0      0  \n",
       "\n",
       "[5 rows x 290 columns]"
      ]
     },
     "execution_count": 490,
     "metadata": {},
     "output_type": "execute_result"
    }
   ],
   "source": [
    "data = pd.merge(data, bins, how=\"left\", left_index=True, right_index=True)\n",
    "data = data.drop(\"decade\", axis = 1)\n",
    "data.head()"
   ]
  },
  {
   "cell_type": "code",
   "execution_count": 491,
   "metadata": {},
   "outputs": [
    {
     "data": {
      "text/html": [
       "<div>\n",
       "<table border=\"1\" class=\"dataframe\">\n",
       "  <thead>\n",
       "    <tr style=\"text-align: right;\">\n",
       "      <th></th>\n",
       "      <th>R</th>\n",
       "    </tr>\n",
       "  </thead>\n",
       "  <tbody>\n",
       "    <tr>\n",
       "      <th>0</th>\n",
       "      <td>1</td>\n",
       "    </tr>\n",
       "    <tr>\n",
       "      <th>1</th>\n",
       "      <td>1</td>\n",
       "    </tr>\n",
       "    <tr>\n",
       "      <th>2</th>\n",
       "      <td>1</td>\n",
       "    </tr>\n",
       "    <tr>\n",
       "      <th>3</th>\n",
       "      <td>1</td>\n",
       "    </tr>\n",
       "    <tr>\n",
       "      <th>4</th>\n",
       "      <td>0</td>\n",
       "    </tr>\n",
       "  </tbody>\n",
       "</table>\n",
       "</div>"
      ],
      "text/plain": [
       "   R\n",
       "0  1\n",
       "1  1\n",
       "2  1\n",
       "3  1\n",
       "4  0"
      ]
     },
     "execution_count": 491,
     "metadata": {},
     "output_type": "execute_result"
    }
   ],
   "source": [
    "lbh = LabelBinarizer()\n",
    "lbh.fit(data[\"throws\"])\n",
    "binh = lbh.transform(data[\"throws\"])\n",
    "binh = pd.DataFrame(binh)\n",
    "binh = binh.rename(columns = {0 : \"R\"})\n",
    "binh.head()"
   ]
  },
  {
   "cell_type": "code",
   "execution_count": 492,
   "metadata": {},
   "outputs": [
    {
     "data": {
      "text/html": [
       "<div>\n",
       "<table border=\"1\" class=\"dataframe\">\n",
       "  <thead>\n",
       "    <tr style=\"text-align: right;\">\n",
       "      <th></th>\n",
       "      <th>player_id</th>\n",
       "      <th>g-0</th>\n",
       "      <th>w-0</th>\n",
       "      <th>l-0</th>\n",
       "      <th>gs-0</th>\n",
       "      <th>cg-0</th>\n",
       "      <th>sho-0</th>\n",
       "      <th>sv-0</th>\n",
       "      <th>ipouts-0</th>\n",
       "      <th>h-0</th>\n",
       "      <th>...</th>\n",
       "      <th>hr_per_tbf</th>\n",
       "      <th>so_per_tbf</th>\n",
       "      <th>wp_per_bfp</th>\n",
       "      <th>so_per_bb</th>\n",
       "      <th>HW_ratio</th>\n",
       "      <th>1970s</th>\n",
       "      <th>1980s</th>\n",
       "      <th>1990s</th>\n",
       "      <th>2000s</th>\n",
       "      <th>R</th>\n",
       "    </tr>\n",
       "  </thead>\n",
       "  <tbody>\n",
       "    <tr>\n",
       "      <th>0</th>\n",
       "      <td>hamiljo02</td>\n",
       "      <td>16</td>\n",
       "      <td>9</td>\n",
       "      <td>6</td>\n",
       "      <td>16</td>\n",
       "      <td>1</td>\n",
       "      <td>1</td>\n",
       "      <td>0</td>\n",
       "      <td>326</td>\n",
       "      <td>98</td>\n",
       "      <td>...</td>\n",
       "      <td>0.023233</td>\n",
       "      <td>0.173620</td>\n",
       "      <td>0.008345</td>\n",
       "      <td>1.819372</td>\n",
       "      <td>0.345455</td>\n",
       "      <td>0</td>\n",
       "      <td>0</td>\n",
       "      <td>1</td>\n",
       "      <td>0</td>\n",
       "      <td>1</td>\n",
       "    </tr>\n",
       "    <tr>\n",
       "      <th>1</th>\n",
       "      <td>nelsojo01</td>\n",
       "      <td>2</td>\n",
       "      <td>0</td>\n",
       "      <td>0</td>\n",
       "      <td>0</td>\n",
       "      <td>0</td>\n",
       "      <td>0</td>\n",
       "      <td>0</td>\n",
       "      <td>6</td>\n",
       "      <td>7</td>\n",
       "      <td>...</td>\n",
       "      <td>0.032086</td>\n",
       "      <td>0.262032</td>\n",
       "      <td>0.004425</td>\n",
       "      <td>1.689655</td>\n",
       "      <td>0.400000</td>\n",
       "      <td>0</td>\n",
       "      <td>0</td>\n",
       "      <td>0</td>\n",
       "      <td>1</td>\n",
       "      <td>1</td>\n",
       "    </tr>\n",
       "    <tr>\n",
       "      <th>2</th>\n",
       "      <td>lopezro01</td>\n",
       "      <td>6</td>\n",
       "      <td>0</td>\n",
       "      <td>3</td>\n",
       "      <td>6</td>\n",
       "      <td>0</td>\n",
       "      <td>0</td>\n",
       "      <td>0</td>\n",
       "      <td>74</td>\n",
       "      <td>40</td>\n",
       "      <td>...</td>\n",
       "      <td>0.034436</td>\n",
       "      <td>0.168769</td>\n",
       "      <td>0.004032</td>\n",
       "      <td>2.106383</td>\n",
       "      <td>0.394595</td>\n",
       "      <td>0</td>\n",
       "      <td>0</td>\n",
       "      <td>0</td>\n",
       "      <td>1</td>\n",
       "      <td>1</td>\n",
       "    </tr>\n",
       "    <tr>\n",
       "      <th>3</th>\n",
       "      <td>spradje01</td>\n",
       "      <td>37</td>\n",
       "      <td>2</td>\n",
       "      <td>1</td>\n",
       "      <td>0</td>\n",
       "      <td>0</td>\n",
       "      <td>0</td>\n",
       "      <td>2</td>\n",
       "      <td>147</td>\n",
       "      <td>44</td>\n",
       "      <td>...</td>\n",
       "      <td>0.028743</td>\n",
       "      <td>0.204790</td>\n",
       "      <td>0.016741</td>\n",
       "      <td>2.948276</td>\n",
       "      <td>0.343478</td>\n",
       "      <td>0</td>\n",
       "      <td>0</td>\n",
       "      <td>1</td>\n",
       "      <td>0</td>\n",
       "      <td>1</td>\n",
       "    </tr>\n",
       "    <tr>\n",
       "      <th>4</th>\n",
       "      <td>powelde01</td>\n",
       "      <td>16</td>\n",
       "      <td>1</td>\n",
       "      <td>1</td>\n",
       "      <td>2</td>\n",
       "      <td>0</td>\n",
       "      <td>0</td>\n",
       "      <td>1</td>\n",
       "      <td>88</td>\n",
       "      <td>30</td>\n",
       "      <td>...</td>\n",
       "      <td>0.024262</td>\n",
       "      <td>0.139241</td>\n",
       "      <td>0.012241</td>\n",
       "      <td>1.245283</td>\n",
       "      <td>0.428571</td>\n",
       "      <td>0</td>\n",
       "      <td>1</td>\n",
       "      <td>0</td>\n",
       "      <td>0</td>\n",
       "      <td>0</td>\n",
       "    </tr>\n",
       "  </tbody>\n",
       "</table>\n",
       "<p>5 rows × 290 columns</p>\n",
       "</div>"
      ],
      "text/plain": [
       "   player_id  g-0  w-0  l-0  gs-0  cg-0  sho-0  sv-0  ipouts-0  h-0 ...  \\\n",
       "0  hamiljo02   16    9    6    16     1      1     0       326   98 ...   \n",
       "1  nelsojo01    2    0    0     0     0      0     0         6    7 ...   \n",
       "2  lopezro01    6    0    3     6     0      0     0        74   40 ...   \n",
       "3  spradje01   37    2    1     0     0      0     2       147   44 ...   \n",
       "4  powelde01   16    1    1     2     0      0     1        88   30 ...   \n",
       "\n",
       "   hr_per_tbf  so_per_tbf  wp_per_bfp  so_per_bb  HW_ratio  1970s  1980s  \\\n",
       "0    0.023233    0.173620    0.008345   1.819372  0.345455      0      0   \n",
       "1    0.032086    0.262032    0.004425   1.689655  0.400000      0      0   \n",
       "2    0.034436    0.168769    0.004032   2.106383  0.394595      0      0   \n",
       "3    0.028743    0.204790    0.016741   2.948276  0.343478      0      0   \n",
       "4    0.024262    0.139241    0.012241   1.245283  0.428571      0      1   \n",
       "\n",
       "   1990s  2000s  R  \n",
       "0      1      0  1  \n",
       "1      0      1  1  \n",
       "2      0      1  1  \n",
       "3      1      0  1  \n",
       "4      0      0  0  \n",
       "\n",
       "[5 rows x 290 columns]"
      ]
     },
     "execution_count": 492,
     "metadata": {},
     "output_type": "execute_result"
    }
   ],
   "source": [
    "data = pd.merge(data, binh, how=\"left\", left_index=True, right_index=True)\n",
    "data = data.drop(\"throws\", axis = 1)\n",
    "data.head()"
   ]
  },
  {
   "cell_type": "code",
   "execution_count": 493,
   "metadata": {},
   "outputs": [
    {
     "data": {
      "text/html": [
       "<div>\n",
       "<table border=\"1\" class=\"dataframe\">\n",
       "  <thead>\n",
       "    <tr style=\"text-align: right;\">\n",
       "      <th></th>\n",
       "      <th>g-0</th>\n",
       "      <th>w-0</th>\n",
       "      <th>l-0</th>\n",
       "      <th>gs-0</th>\n",
       "      <th>cg-0</th>\n",
       "      <th>sho-0</th>\n",
       "      <th>sv-0</th>\n",
       "      <th>ipouts-0</th>\n",
       "      <th>h-0</th>\n",
       "      <th>er-0</th>\n",
       "      <th>...</th>\n",
       "      <th>hr_per_tbf</th>\n",
       "      <th>so_per_tbf</th>\n",
       "      <th>wp_per_bfp</th>\n",
       "      <th>so_per_bb</th>\n",
       "      <th>HW_ratio</th>\n",
       "      <th>1970s</th>\n",
       "      <th>1980s</th>\n",
       "      <th>1990s</th>\n",
       "      <th>2000s</th>\n",
       "      <th>R</th>\n",
       "    </tr>\n",
       "  </thead>\n",
       "  <tbody>\n",
       "    <tr>\n",
       "      <th>0</th>\n",
       "      <td>16</td>\n",
       "      <td>9</td>\n",
       "      <td>6</td>\n",
       "      <td>16</td>\n",
       "      <td>1</td>\n",
       "      <td>1</td>\n",
       "      <td>0</td>\n",
       "      <td>326</td>\n",
       "      <td>98</td>\n",
       "      <td>36</td>\n",
       "      <td>...</td>\n",
       "      <td>0.023233</td>\n",
       "      <td>0.173620</td>\n",
       "      <td>0.008345</td>\n",
       "      <td>1.819372</td>\n",
       "      <td>0.345455</td>\n",
       "      <td>0</td>\n",
       "      <td>0</td>\n",
       "      <td>1</td>\n",
       "      <td>0</td>\n",
       "      <td>1</td>\n",
       "    </tr>\n",
       "    <tr>\n",
       "      <th>1</th>\n",
       "      <td>2</td>\n",
       "      <td>0</td>\n",
       "      <td>0</td>\n",
       "      <td>0</td>\n",
       "      <td>0</td>\n",
       "      <td>0</td>\n",
       "      <td>0</td>\n",
       "      <td>6</td>\n",
       "      <td>7</td>\n",
       "      <td>8</td>\n",
       "      <td>...</td>\n",
       "      <td>0.032086</td>\n",
       "      <td>0.262032</td>\n",
       "      <td>0.004425</td>\n",
       "      <td>1.689655</td>\n",
       "      <td>0.400000</td>\n",
       "      <td>0</td>\n",
       "      <td>0</td>\n",
       "      <td>0</td>\n",
       "      <td>1</td>\n",
       "      <td>1</td>\n",
       "    </tr>\n",
       "    <tr>\n",
       "      <th>2</th>\n",
       "      <td>6</td>\n",
       "      <td>0</td>\n",
       "      <td>3</td>\n",
       "      <td>6</td>\n",
       "      <td>0</td>\n",
       "      <td>0</td>\n",
       "      <td>0</td>\n",
       "      <td>74</td>\n",
       "      <td>40</td>\n",
       "      <td>24</td>\n",
       "      <td>...</td>\n",
       "      <td>0.034436</td>\n",
       "      <td>0.168769</td>\n",
       "      <td>0.004032</td>\n",
       "      <td>2.106383</td>\n",
       "      <td>0.394595</td>\n",
       "      <td>0</td>\n",
       "      <td>0</td>\n",
       "      <td>0</td>\n",
       "      <td>1</td>\n",
       "      <td>1</td>\n",
       "    </tr>\n",
       "    <tr>\n",
       "      <th>3</th>\n",
       "      <td>37</td>\n",
       "      <td>2</td>\n",
       "      <td>1</td>\n",
       "      <td>0</td>\n",
       "      <td>0</td>\n",
       "      <td>0</td>\n",
       "      <td>2</td>\n",
       "      <td>147</td>\n",
       "      <td>44</td>\n",
       "      <td>19</td>\n",
       "      <td>...</td>\n",
       "      <td>0.028743</td>\n",
       "      <td>0.204790</td>\n",
       "      <td>0.016741</td>\n",
       "      <td>2.948276</td>\n",
       "      <td>0.343478</td>\n",
       "      <td>0</td>\n",
       "      <td>0</td>\n",
       "      <td>1</td>\n",
       "      <td>0</td>\n",
       "      <td>1</td>\n",
       "    </tr>\n",
       "    <tr>\n",
       "      <th>4</th>\n",
       "      <td>16</td>\n",
       "      <td>1</td>\n",
       "      <td>1</td>\n",
       "      <td>2</td>\n",
       "      <td>0</td>\n",
       "      <td>0</td>\n",
       "      <td>1</td>\n",
       "      <td>88</td>\n",
       "      <td>30</td>\n",
       "      <td>17</td>\n",
       "      <td>...</td>\n",
       "      <td>0.024262</td>\n",
       "      <td>0.139241</td>\n",
       "      <td>0.012241</td>\n",
       "      <td>1.245283</td>\n",
       "      <td>0.428571</td>\n",
       "      <td>0</td>\n",
       "      <td>1</td>\n",
       "      <td>0</td>\n",
       "      <td>0</td>\n",
       "      <td>0</td>\n",
       "    </tr>\n",
       "  </tbody>\n",
       "</table>\n",
       "<p>5 rows × 289 columns</p>\n",
       "</div>"
      ],
      "text/plain": [
       "   g-0  w-0  l-0  gs-0  cg-0  sho-0  sv-0  ipouts-0  h-0  er-0 ...  \\\n",
       "0   16    9    6    16     1      1     0       326   98    36 ...   \n",
       "1    2    0    0     0     0      0     0         6    7     8 ...   \n",
       "2    6    0    3     6     0      0     0        74   40    24 ...   \n",
       "3   37    2    1     0     0      0     2       147   44    19 ...   \n",
       "4   16    1    1     2     0      0     1        88   30    17 ...   \n",
       "\n",
       "   hr_per_tbf  so_per_tbf  wp_per_bfp  so_per_bb  HW_ratio  1970s  1980s  \\\n",
       "0    0.023233    0.173620    0.008345   1.819372  0.345455      0      0   \n",
       "1    0.032086    0.262032    0.004425   1.689655  0.400000      0      0   \n",
       "2    0.034436    0.168769    0.004032   2.106383  0.394595      0      0   \n",
       "3    0.028743    0.204790    0.016741   2.948276  0.343478      0      0   \n",
       "4    0.024262    0.139241    0.012241   1.245283  0.428571      0      1   \n",
       "\n",
       "   1990s  2000s  R  \n",
       "0      1      0  1  \n",
       "1      0      1  1  \n",
       "2      0      1  1  \n",
       "3      1      0  1  \n",
       "4      0      0  0  \n",
       "\n",
       "[5 rows x 289 columns]"
      ]
     },
     "execution_count": 493,
     "metadata": {},
     "output_type": "execute_result"
    }
   ],
   "source": [
    "data = data.drop(\"player_id\", axis = 1)\n",
    "data.head()"
   ]
  },
  {
   "cell_type": "code",
   "execution_count": 494,
   "metadata": {},
   "outputs": [
    {
     "data": {
      "text/plain": [
       "array([[ 16.,   9.,   6., ...,   1.,   0.,   1.],\n",
       "       [  2.,   0.,   0., ...,   0.,   1.,   1.],\n",
       "       [  6.,   0.,   3., ...,   0.,   1.,   1.],\n",
       "       ..., \n",
       "       [ 24.,   8.,   9., ...,   0.,   0.,   1.],\n",
       "       [  3.,   0.,   0., ...,   0.,   0.,   0.],\n",
       "       [ 21.,   3.,   1., ...,   1.,   0.,   1.]])"
      ]
     },
     "execution_count": 494,
     "metadata": {},
     "output_type": "execute_result"
    }
   ],
   "source": [
    "#Convert to matrix\n",
    "X = data.as_matrix()\n",
    "X[0:10]"
   ]
  },
  {
   "cell_type": "code",
   "execution_count": 495,
   "metadata": {},
   "outputs": [
    {
     "data": {
      "text/plain": [
       "array([[ 0.18987342,  0.52941176,  0.31578947,  0.45714286,  0.0625    ,\n",
       "         0.25      ,  0.        ,  0.45786517,  0.44144144,  0.31034483,\n",
       "         0.21875   ,  0.2027972 ,  0.22101449,  0.2       ,  0.27272727,\n",
       "         0.35294118,  0.46122027,  0.        ,  0.33057851,  0.46127946,\n",
       "         0.67241379,  0.05521472,  0.23786408,  0.84409257,  1.        ,\n",
       "         0.5625    ,  0.375     ,  0.6       ,  0.        ,  0.09375   ,\n",
       "         0.125     ,  0.        ,  0.815     ,  0.12975392,  0.09395974,\n",
       "         0.02548543,  0.20500373,  0.08053692,  0.23371648,  0.61538462,\n",
       "         0.36470588,  0.25      ,  0.40909091,  0.75      ,  0.11764706,\n",
       "         0.25      ,  0.        ,  0.7280285 ,  0.65397924,  0.51851852,\n",
       "         0.425     ,  0.4       ,  0.45895522,  0.3125    ,  0.0952381 ,\n",
       "         0.6875    ,  0.7118928 ,  0.01470588,  0.59333333,  0.71506849,\n",
       "         0.37398374,  0.045677  ,  0.28965517,  0.82418712,  0.96774194,\n",
       "         0.19354839,  0.29032258,  0.4       ,  0.03225806,  0.10138249,\n",
       "         0.20161291,  0.        ,  0.81950845,  0.10980392,  0.14235298,\n",
       "         0.11289913,  0.31417624,  0.01764705,  0.19967532,  0.61538462,\n",
       "         0.38636364,  0.625     ,  0.47368421,  0.80487805,  0.15      ,\n",
       "         0.125     ,  0.        ,  0.72405929,  0.72535211,  0.70503597,\n",
       "         0.51351351,  0.664     ,  0.68401487,  0.16666667,  0.53846154,\n",
       "         0.45      ,  0.7442623 ,  0.        ,  0.68493151,  0.72922252,\n",
       "         0.34444444,  0.03858268,  0.37867647,  0.80508475,  0.97058824,\n",
       "         0.60661764,  0.26470588,  0.625     ,  0.        ,  0.14932126,\n",
       "         0.14338233,  0.        ,  0.77621228,  0.18281938,  0.05947134,\n",
       "         0.06985293,  0.4509804 ,  0.0770925 ,  0.22168675,  0.61538462,\n",
       "         0.35632184,  0.48      ,  0.31818182,  0.725     ,  0.04      ,\n",
       "         0.        ,  0.        ,  0.59282051,  0.6722973 ,  0.72222222,\n",
       "         0.55      ,  0.45394737,  0.46969697,  0.11111111,  0.35      ,\n",
       "         0.6       ,  0.62906889,  0.01470588,  0.72463768,  0.60240964,\n",
       "         0.28      ,  0.06747405,  0.43116666,  0.76859712,  0.93548387,\n",
       "         0.54193548,  0.22580645,  0.63157895,  0.03225806,  0.04768583,\n",
       "         0.        ,  0.        ,  0.72642136,  0.16606498,  0.07220215,\n",
       "         0.11733332,  0.29759999,  0.00842359,  0.12537917,  0.61538462,\n",
       "         0.37362637,  0.54166667,  0.68421053,  0.85      ,  0.        ,\n",
       "         0.        ,  0.        ,  0.72044199,  0.77738516,  0.79844961,\n",
       "         0.39473684,  0.73611111,  0.50515464,  0.43478261,  0.2       ,\n",
       "         0.4       ,  0.7757085 ,  0.        ,  0.74834437,  0.73455178,\n",
       "         0.21505376,  0.15797546,  0.49419711,  0.77556649,  1.        ,\n",
       "         0.38235294,  0.47794117,  0.5       ,  0.        ,  0.        ,\n",
       "         0.        ,  0.        ,  0.7423222 ,  0.28768267,  0.13695197,\n",
       "         0.0799763 ,  0.34329282,  0.03340296,  0.11556604,  0.61538462,\n",
       "         0.23404255,  0.30434783,  0.42105263,  0.45      ,  0.        ,\n",
       "         0.        ,  0.        ,  0.32343234,  0.41114983,  0.53383459,\n",
       "         0.31707317,  0.25827815,  0.18181818,  0.        ,  0.19047619,\n",
       "         0.14285714,  0.35115722,  0.01408451,  0.50344828,  0.34310345,\n",
       "         0.00952381,  0.06037415,  0.39530988,  0.55580192,  0.81818182,\n",
       "         0.46666667,  0.36363636,  0.46666667,  0.04545455,  0.        ,\n",
       "         0.        ,  0.        ,  0.50747161,  0.17727272,  0.09545452,\n",
       "         0.09254607,  0.28140704,  0.10363637,  0.13616269,  0.23529412,\n",
       "         0.4516129 ,  0.58823529,  1.        ,  0.        ,  0.36697248,\n",
       "         0.62      ,  0.61176471,  0.75117371,  0.07216495,  0.16666667,\n",
       "         0.        ,  0.63818258,  0.72428571,  0.74074074,  0.51977401,\n",
       "         0.55882353,  0.52084913,  0.33333333,  0.46835443,  0.59756098,\n",
       "         0.67583012,  0.00934579,  0.75185736,  0.65424739,  0.14027778,\n",
       "         0.26186104,  0.47191771,  0.8205695 ,  0.95238095,  0.65321429,\n",
       "         0.6372549 ,  0.54385965,  0.0200267 ,  0.08785141,  0.18115939,\n",
       "         0.        ,  0.79783597,  0.4187502 ,  0.3131108 ,  0.29373866,\n",
       "         0.31828943,  0.22092   ,  0.13905009,  0.41036206,  0.        ,\n",
       "         0.        ,  1.        ,  0.        ,  1.        ],\n",
       "       [ 0.01265823,  0.        ,  0.        ,  0.        ,  0.        ,\n",
       "         0.        ,  0.        ,  0.00842697,  0.03153153,  0.06896552,\n",
       "         0.03125   ,  0.01398601,  0.        ,  0.        ,  0.        ,\n",
       "         0.05882353,  0.01551189,  0.        ,  0.07438017,  0.01234568,\n",
       "         0.01724138,  0.66666667,  0.58333333,  0.17052375,  0.        ,\n",
       "         0.        ,  0.        ,  0.        ,  0.        ,  0.        ,\n",
       "         0.        ,  0.        ,  0.12      ,  0.25      ,  0.43750001,\n",
       "         0.12499999,  0.        ,  0.        ,  0.        ,  0.79487179,\n",
       "         0.        ,  0.        ,  0.        ,  0.        ,  0.        ,\n",
       "         0.        ,  0.        ,  0.        ,  0.        ,  0.        ,\n",
       "         0.        ,  0.        ,  0.        ,  0.        ,  0.        ,\n",
       "         0.        ,  0.        ,  0.        ,  0.        ,  0.        ,\n",
       "         0.00813008,  0.05935847,  0.30559993,  0.33493592,  0.33702257,\n",
       "         0.16726337,  0.16431571,  0.50444488,  0.27141677,  0.05642288,\n",
       "         0.03150713,  0.07557189,  0.34041883,  0.14533192,  0.07587811,\n",
       "         0.13353819,  0.36000864,  0.06042615,  0.16900217,  0.79487179,\n",
       "         0.        ,  0.        ,  0.        ,  0.        ,  0.        ,\n",
       "         0.        ,  0.        ,  0.        ,  0.        ,  0.        ,\n",
       "         0.        ,  0.        ,  0.        ,  0.        ,  0.        ,\n",
       "         0.        ,  0.        ,  0.        ,  0.        ,  0.        ,\n",
       "         0.01111111,  0.03709904,  0.38199991,  0.35077671,  0.33702257,\n",
       "         0.22998713,  0.16431571,  0.50444488,  0.27141677,  0.0607631 ,\n",
       "         0.04915111,  0.11599406,  0.34245726,  0.1743983 ,  0.04138806,\n",
       "         0.07704126,  0.36000864,  0.0402841 ,  0.18590239,  0.79487179,\n",
       "         0.03448276,  0.        ,  0.        ,  0.        ,  0.        ,\n",
       "         0.        ,  0.        ,  0.00820513,  0.01351351,  0.03968254,\n",
       "         0.        ,  0.01973684,  0.01893939,  0.        ,  0.        ,\n",
       "         0.1       ,  0.01286904,  0.01470588,  0.03623188,  0.00883534,\n",
       "         0.01      ,  0.26785714,  0.59090908,  0.08836907,  0.        ,\n",
       "         0.        ,  0.        ,  0.        ,  0.33333333,  0.        ,\n",
       "         0.        ,  0.        ,  0.0831952 ,  0.35294118,  0.5882353 ,\n",
       "         0.        ,  0.8181818 ,  0.        ,  0.11627907,  0.79487179,\n",
       "         0.        ,  0.        ,  0.        ,  0.        ,  0.        ,\n",
       "         0.        ,  0.        ,  0.        ,  0.        ,  0.        ,\n",
       "         0.        ,  0.        ,  0.        ,  0.        ,  0.        ,\n",
       "         0.        ,  0.        ,  0.        ,  0.        ,  0.        ,\n",
       "         0.01075269,  0.14839618,  0.47974788,  0.3181392 ,  0.33702257,\n",
       "         0.16726337,  0.20539464,  0.50444488,  0.27141677,  0.04488184,\n",
       "         0.04032912,  0.10208834,  0.30691835,  0.22671779,  0.11312736,\n",
       "         0.11556189,  0.35479112,  0.06445456,  0.15491866,  0.79487179,\n",
       "         0.45744681,  0.04347826,  0.05263158,  0.        ,  0.        ,\n",
       "         0.        ,  0.16981132,  0.14741474,  0.12891986,  0.16541353,\n",
       "         0.12195122,  0.1589404 ,  0.14285714,  0.2       ,  0.04761905,\n",
       "         0.04761905,  0.15403033,  0.28169014,  0.15172414,  0.14137931,\n",
       "         0.05714286,  0.04104478,  0.30081301,  0.09151068,  0.        ,\n",
       "         0.03410852,  0.02325581,  0.5       ,  0.46511628,  0.        ,\n",
       "         0.        ,  0.26064064,  0.10321244,  0.24870466,  0.0725389 ,\n",
       "         0.0863821 ,  0.53658536,  0.05906739,  0.17385057,  0.64705882,\n",
       "         0.22580645,  0.47058824,  0.25      ,  0.        ,  0.09174312,\n",
       "         0.01      ,  0.01176471,  0.        ,  0.        ,  0.        ,\n",
       "         0.04787234,  0.02334306,  0.02285714,  0.04186795,  0.02824859,\n",
       "         0.03970588,  0.03108415,  0.05797101,  0.01265823,  0.04878049,\n",
       "         0.02594595,  0.06542056,  0.04011887,  0.02235469,  0.04097222,\n",
       "         0.57744945,  0.46821755,  0.06306406,  0.        ,  0.03687499,\n",
       "         0.04289215,  0.5       ,  0.4906542 ,  0.        ,  0.        ,\n",
       "         0.33211436,  0.05955154,  0.70070822,  0.50147503,  0.43147487,\n",
       "         0.56846364,  0.11714417,  0.12340246,  0.64271938,  0.        ,\n",
       "         0.        ,  0.        ,  1.        ,  1.        ]])"
      ]
     },
     "execution_count": 495,
     "metadata": {},
     "output_type": "execute_result"
    }
   ],
   "source": [
    "from sklearn.preprocessing import MinMaxScaler\n",
    "\n",
    "Scaler = MinMaxScaler()\n",
    "Scaler.fit(X)\n",
    "X = Scaler.transform(X)\n",
    "X[0:2]"
   ]
  },
  {
   "cell_type": "code",
   "execution_count": 496,
   "metadata": {
    "collapsed": true
   },
   "outputs": [],
   "source": [
    "from sklearn.model_selection import train_test_split\n",
    "Xtrain, Xtest, Ytrain, Ytest = train_test_split(X, y, test_size = 0.2, random_state=12345)\n"
   ]
  },
  {
   "cell_type": "code",
   "execution_count": 497,
   "metadata": {
    "collapsed": true
   },
   "outputs": [],
   "source": [
    "from sklearn.neural_network import MLPRegressor\n",
    "from sklearn.model_selection import GridSearchCV\n",
    "\n",
    "alphas = [0.01, 0.1, 1, 10, 100]\n",
    "nodes = [(6), (8), (10), (12), (14), (8, 3), (10, 3), (12, 4), (14, 5)]\n",
    "params = {\"alpha\" : alphas, \"hidden_layer_sizes\" : nodes}"
   ]
  },
  {
   "cell_type": "code",
   "execution_count": 528,
   "metadata": {
    "collapsed": true
   },
   "outputs": [],
   "source": [
    "from sklearn.linear_model import Ridge\n",
    "\n",
    "#linear feature selector\n",
    "from sklearn.feature_selection import RFE\n",
    "\n",
    "Rge = Ridge(alpha = 2)\n",
    "\n",
    "feat = 7\n",
    "\n",
    "myRFE = RFE(Rge, n_features_to_select=feat, step = 1)"
   ]
  },
  {
   "cell_type": "code",
   "execution_count": 529,
   "metadata": {},
   "outputs": [
    {
     "data": {
      "text/plain": [
       "RFE(estimator=Ridge(alpha=2, copy_X=True, fit_intercept=True, max_iter=None,\n",
       "   normalize=False, random_state=None, solver='auto', tol=0.001),\n",
       "  n_features_to_select=7, step=1, verbose=0)"
      ]
     },
     "execution_count": 529,
     "metadata": {},
     "output_type": "execute_result"
    }
   ],
   "source": [
    "myRFE.fit(Xtrain, Ytrain)"
   ]
  },
  {
   "cell_type": "code",
   "execution_count": 530,
   "metadata": {},
   "outputs": [
    {
     "data": {
      "text/plain": [
       "array([ 94,  11,  19, 265, 264, 172,  60])"
      ]
     },
     "execution_count": 530,
     "metadata": {},
     "output_type": "execute_result"
    }
   ],
   "source": [
    "colindex = np.argsort(myRFE.ranking_)[0:feat]\n",
    "colindex"
   ]
  },
  {
   "cell_type": "code",
   "execution_count": 531,
   "metadata": {},
   "outputs": [
    {
     "data": {
      "text/plain": [
       "['wp-2', 'bb-0', 'tbf-0', 'era', 'war', 'so-4', 'war-1']"
      ]
     },
     "execution_count": 531,
     "metadata": {},
     "output_type": "execute_result"
    }
   ],
   "source": [
    "best = list(data.columns[colindex])\n",
    "best"
   ]
  },
  {
   "cell_type": "code",
   "execution_count": 532,
   "metadata": {
    "collapsed": true
   },
   "outputs": [],
   "source": [
    "from sklearn.metrics import r2_score\n",
    "Rdg2 = Ridge()\n",
    "rdge_alp = {'alpha' : [0.01, 0.1, 1, 10, 100]}\n",
    "GSrid = GridSearchCV(Rdg2, rdge_alp, return_train_score = True, scoring = 'r2')"
   ]
  },
  {
   "cell_type": "code",
   "execution_count": 533,
   "metadata": {},
   "outputs": [
    {
     "data": {
      "text/plain": [
       "array([[ 0.15384615,  0.11888112,  0.18294052, ...,  0.06805556,\n",
       "         0.11683849,  0.02439024],\n",
       "       [ 0.11538462,  0.        ,  0.01234568, ...,  0.075     ,\n",
       "         0.        ,  0.        ],\n",
       "       [ 0.03846154,  0.        ,  0.00224467, ...,  0.08541667,\n",
       "         0.42955326,  0.00813008],\n",
       "       ..., \n",
       "       [ 0.03846154,  0.04195804,  0.04489338, ...,  0.10416667,\n",
       "         0.29896907,  0.00813008],\n",
       "       [ 0.19230769,  0.06293706,  0.06285073, ...,  0.19027778,\n",
       "         0.2233677 ,  0.07317073],\n",
       "       [ 0.11538462,  0.16083916,  0.23007856, ...,  0.12916667,\n",
       "         0.51546392,  0.08130081]])"
      ]
     },
     "execution_count": 533,
     "metadata": {},
     "output_type": "execute_result"
    }
   ],
   "source": [
    "Xtrain_new = Xtrain[:, colindex]\n",
    "Xtest_new = Xtest[:, colindex]\n",
    "Xtest_new"
   ]
  },
  {
   "cell_type": "code",
   "execution_count": 534,
   "metadata": {},
   "outputs": [
    {
     "data": {
      "text/plain": [
       "GridSearchCV(cv=None, error_score='raise',\n",
       "       estimator=Ridge(alpha=1.0, copy_X=True, fit_intercept=True, max_iter=None,\n",
       "   normalize=False, random_state=None, solver='auto', tol=0.001),\n",
       "       fit_params=None, iid=True, n_jobs=1,\n",
       "       param_grid={'alpha': [0.01, 0.1, 1, 10, 100]},\n",
       "       pre_dispatch='2*n_jobs', refit=True, return_train_score=True,\n",
       "       scoring='r2', verbose=0)"
      ]
     },
     "execution_count": 534,
     "metadata": {},
     "output_type": "execute_result"
    }
   ],
   "source": [
    "GSrid.fit(Xtrain_new, Ytrain)"
   ]
  },
  {
   "cell_type": "code",
   "execution_count": 535,
   "metadata": {},
   "outputs": [
    {
     "data": {
      "text/plain": [
       "0.46635138421592542"
      ]
     },
     "execution_count": 535,
     "metadata": {},
     "output_type": "execute_result"
    }
   ],
   "source": [
    "GSrid.best_score_"
   ]
  },
  {
   "cell_type": "code",
   "execution_count": 536,
   "metadata": {},
   "outputs": [
    {
     "data": {
      "text/plain": [
       "{'alpha': 0.1}"
      ]
     },
     "execution_count": 536,
     "metadata": {},
     "output_type": "execute_result"
    }
   ],
   "source": [
    "GSrid.best_params_"
   ]
  },
  {
   "cell_type": "code",
   "execution_count": 537,
   "metadata": {},
   "outputs": [
    {
     "data": {
      "text/plain": [
       "0.40550277541631319"
      ]
     },
     "execution_count": 537,
     "metadata": {},
     "output_type": "execute_result"
    }
   ],
   "source": [
    "preds = GSrid.predict(Xtest_new)\n",
    "\n",
    "r2_score(Ytest, preds)"
   ]
  },
  {
   "cell_type": "code",
   "execution_count": 254,
   "metadata": {
    "collapsed": true
   },
   "outputs": [],
   "source": [
    "alphas = [0.1, 1, 10, 100]\n",
    "nodes = [(4), (6), (7), (8), (10), (8, 3), (10, 3), (12, 4), (14, 5)]\n",
    "params = {\"alpha\" : alphas, \"hidden_layer_sizes\" : nodes}\n",
    "\n",
    "\n",
    "MLP = MLPRegressor(activation = 'relu', solver = 'lbfgs', random_state = 54321)\n",
    "\n",
    "GS = GridSearchCV(MLP, params, return_train_score = True, scoring = 'r2')"
   ]
  },
  {
   "cell_type": "code",
   "execution_count": 255,
   "metadata": {},
   "outputs": [
    {
     "data": {
      "text/plain": [
       "GridSearchCV(cv=None, error_score='raise',\n",
       "       estimator=MLPRegressor(activation='relu', alpha=0.0001, batch_size='auto', beta_1=0.9,\n",
       "       beta_2=0.999, early_stopping=False, epsilon=1e-08,\n",
       "       hidden_layer_sizes=(100,), learning_rate='constant',\n",
       "       learning_rate_init=0.001, max_iter=200, momentum=0.9,\n",
       "       nesterovs_momentum=True, power_t=0.5, random_state=54321,\n",
       "       shuffle=True, solver='lbfgs', tol=0.0001, validation_fraction=0.1,\n",
       "       verbose=False, warm_start=False),\n",
       "       fit_params=None, iid=True, n_jobs=1,\n",
       "       param_grid={'alpha': [0.1, 1, 10, 100], 'hidden_layer_sizes': [4, 6, 7, 8, 10, (8, 3), (10, 3), (12, 4), (14, 5)]},\n",
       "       pre_dispatch='2*n_jobs', refit=True, return_train_score=True,\n",
       "       scoring='r2', verbose=0)"
      ]
     },
     "execution_count": 255,
     "metadata": {},
     "output_type": "execute_result"
    }
   ],
   "source": [
    "GS.fit(Xtrain_new, Ytrain)"
   ]
  },
  {
   "cell_type": "code",
   "execution_count": 114,
   "metadata": {},
   "outputs": [
    {
     "data": {
      "text/plain": [
       "0.45650324044357105"
      ]
     },
     "execution_count": 114,
     "metadata": {},
     "output_type": "execute_result"
    }
   ],
   "source": [
    "GS.best_score_"
   ]
  },
  {
   "cell_type": "code",
   "execution_count": 266,
   "metadata": {},
   "outputs": [
    {
     "data": {
      "text/plain": [
       "{'alpha': 10, 'hidden_layer_sizes': (10, 3)}"
      ]
     },
     "execution_count": 266,
     "metadata": {},
     "output_type": "execute_result"
    }
   ],
   "source": [
    "GS.best_params_"
   ]
  },
  {
   "cell_type": "code",
   "execution_count": 267,
   "metadata": {
    "collapsed": true
   },
   "outputs": [],
   "source": [
    "preds = GS.predict(Xtest_new)\n",
    "\n",
    "r2_score(Ytest, preds)\n",
    "\n",
    "preds = pd.DataFrame(preds)\n",
    "preds.to_csv(\"pitching_year4.csv\")"
   ]
  },
  {
   "cell_type": "code",
   "execution_count": 278,
   "metadata": {
    "collapsed": true
   },
   "outputs": [],
   "source": [
    "from sklearn.ensemble import RandomForestRegressor\n",
    "\n",
    "DTR = RandomForestRegressor(n_estimators = 100)\n",
    "\n",
    "mx_depth = [2, 3, 4, 5, 6, 7]\n",
    "mn_lf_splt = [1, 2, 3, 4]\n",
    "param_tree = {\"max_depth\" : mx_depth, \"min_samples_leaf\" : mn_lf_splt}\n",
    "GStree = GridSearchCV(DTR, param_tree, return_train_score=True, scoring='r2')"
   ]
  },
  {
   "cell_type": "code",
   "execution_count": 279,
   "metadata": {},
   "outputs": [
    {
     "data": {
      "text/plain": [
       "GridSearchCV(cv=None, error_score='raise',\n",
       "       estimator=RandomForestRegressor(bootstrap=True, criterion='mse', max_depth=None,\n",
       "           max_features='auto', max_leaf_nodes=None,\n",
       "           min_impurity_decrease=0.0, min_impurity_split=None,\n",
       "           min_samples_leaf=1, min_samples_split=2,\n",
       "           min_weight_fraction_leaf=0.0, n_estimators=100, n_jobs=1,\n",
       "           oob_score=False, random_state=None, verbose=0, warm_start=False),\n",
       "       fit_params=None, iid=True, n_jobs=1,\n",
       "       param_grid={'min_samples_leaf': [1, 2, 3, 4], 'max_depth': [2, 3, 4, 5, 6, 7]},\n",
       "       pre_dispatch='2*n_jobs', refit=True, return_train_score=True,\n",
       "       scoring='r2', verbose=0)"
      ]
     },
     "execution_count": 279,
     "metadata": {},
     "output_type": "execute_result"
    }
   ],
   "source": [
    "GStree.fit(Xtrain_new, Ytrain)"
   ]
  },
  {
   "cell_type": "code",
   "execution_count": 280,
   "metadata": {},
   "outputs": [
    {
     "data": {
      "text/plain": [
       "0.39870745254250139"
      ]
     },
     "execution_count": 280,
     "metadata": {},
     "output_type": "execute_result"
    }
   ],
   "source": [
    "GStree.best_score_"
   ]
  },
  {
   "cell_type": "code",
   "execution_count": 281,
   "metadata": {},
   "outputs": [
    {
     "data": {
      "text/plain": [
       "{'max_depth': 6, 'min_samples_leaf': 2}"
      ]
     },
     "execution_count": 281,
     "metadata": {},
     "output_type": "execute_result"
    }
   ],
   "source": [
    "GStree.best_params_"
   ]
  },
  {
   "cell_type": "code",
   "execution_count": 282,
   "metadata": {},
   "outputs": [
    {
     "data": {
      "text/plain": [
       "0.58047420931454885"
      ]
     },
     "execution_count": 282,
     "metadata": {},
     "output_type": "execute_result"
    }
   ],
   "source": [
    "tree_preds = GStree.predict(Xtest_new)\n",
    "\n",
    "r2_score(Ytest, tree_preds)"
   ]
  },
  {
   "cell_type": "code",
   "execution_count": 167,
   "metadata": {
    "collapsed": true
   },
   "outputs": [],
   "source": [
    "from sklearn.svm import SVR\n",
    "\n",
    "svr = SVR(kernel = 'rbf')\n",
    "Cval = [ 200, 500, 1000]\n",
    "eps = [ 0.01, 0.1, 1, 3]\n",
    "gamma = [0.1, 0.01, 0.001]\n",
    "svm_dict = {\"C\" : Cval, \"epsilon\" : eps, \"gamma\" : gamma}\n",
    "GSsvm = GridSearchCV(svr, svm_dict, return_train_score = True, scoring = 'r2')"
   ]
  },
  {
   "cell_type": "code",
   "execution_count": 168,
   "metadata": {},
   "outputs": [
    {
     "data": {
      "text/plain": [
       "GridSearchCV(cv=None, error_score='raise',\n",
       "       estimator=SVR(C=1.0, cache_size=200, coef0=0.0, degree=3, epsilon=0.1, gamma='auto',\n",
       "  kernel='rbf', max_iter=-1, shrinking=True, tol=0.001, verbose=False),\n",
       "       fit_params=None, iid=True, n_jobs=1,\n",
       "       param_grid={'epsilon': [0.01, 0.1, 1, 3], 'C': [200, 500, 1000], 'gamma': [0.1, 0.01, 0.001]},\n",
       "       pre_dispatch='2*n_jobs', refit=True, return_train_score=True,\n",
       "       scoring='r2', verbose=0)"
      ]
     },
     "execution_count": 168,
     "metadata": {},
     "output_type": "execute_result"
    }
   ],
   "source": [
    "GSsvm.fit(Xtrain_new, Ytrain)"
   ]
  },
  {
   "cell_type": "code",
   "execution_count": 169,
   "metadata": {},
   "outputs": [
    {
     "data": {
      "text/plain": [
       "{'C': 500, 'epsilon': 1, 'gamma': 0.01}"
      ]
     },
     "execution_count": 169,
     "metadata": {},
     "output_type": "execute_result"
    }
   ],
   "source": [
    "GSsvm.best_params_"
   ]
  },
  {
   "cell_type": "code",
   "execution_count": 170,
   "metadata": {},
   "outputs": [
    {
     "data": {
      "text/plain": [
       "0.40821285293603715"
      ]
     },
     "execution_count": 170,
     "metadata": {},
     "output_type": "execute_result"
    }
   ],
   "source": [
    "GSsvm.best_score_"
   ]
  },
  {
   "cell_type": "code",
   "execution_count": 171,
   "metadata": {},
   "outputs": [
    {
     "data": {
      "text/plain": [
       "0.46101213814022024"
      ]
     },
     "execution_count": 171,
     "metadata": {},
     "output_type": "execute_result"
    }
   ],
   "source": [
    "preds_svm = GSsvm.predict(Xtest_new)\n",
    "r2_score(Ytest, preds_svm)"
   ]
  },
  {
   "cell_type": "code",
   "execution_count": null,
   "metadata": {
    "collapsed": true
   },
   "outputs": [],
   "source": []
  }
 ],
 "metadata": {
  "kernelspec": {
   "display_name": "Python 3",
   "language": "python",
   "name": "python3"
  },
  "language_info": {
   "codemirror_mode": {
    "name": "ipython",
    "version": 3
   },
   "file_extension": ".py",
   "mimetype": "text/x-python",
   "name": "python",
   "nbconvert_exporter": "python",
   "pygments_lexer": "ipython3",
   "version": "3.5.2"
  }
 },
 "nbformat": 4,
 "nbformat_minor": 2
}
