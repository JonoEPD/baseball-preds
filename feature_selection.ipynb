{
 "cells": [
  {
   "cell_type": "code",
   "execution_count": 1,
   "metadata": {
    "collapsed": true
   },
   "outputs": [],
   "source": [
    "import numpy as np\n",
    "import pandas as pd"
   ]
  },
  {
   "cell_type": "code",
   "execution_count": 2,
   "metadata": {},
   "outputs": [
    {
     "data": {
      "text/html": [
       "<div>\n",
       "<style>\n",
       "    .dataframe thead tr:only-child th {\n",
       "        text-align: right;\n",
       "    }\n",
       "\n",
       "    .dataframe thead th {\n",
       "        text-align: left;\n",
       "    }\n",
       "\n",
       "    .dataframe tbody tr th {\n",
       "        vertical-align: top;\n",
       "    }\n",
       "</style>\n",
       "<table border=\"1\" class=\"dataframe\">\n",
       "  <thead>\n",
       "    <tr style=\"text-align: right;\">\n",
       "      <th></th>\n",
       "      <th>player_id</th>\n",
       "      <th>year-0</th>\n",
       "      <th>g-0</th>\n",
       "      <th>ab-0</th>\n",
       "      <th>r-0</th>\n",
       "      <th>h-0</th>\n",
       "      <th>double-0</th>\n",
       "      <th>triple-0</th>\n",
       "      <th>hr-0</th>\n",
       "      <th>rbi-0</th>\n",
       "      <th>...</th>\n",
       "      <th>sb_ratio-5</th>\n",
       "      <th>bb_per_pa-5</th>\n",
       "      <th>so_per_ab-5</th>\n",
       "      <th>slg-5</th>\n",
       "      <th>obp-5</th>\n",
       "      <th>rc-5</th>\n",
       "      <th>rc_per_ab-5</th>\n",
       "      <th>babip-5</th>\n",
       "      <th>iso-5</th>\n",
       "      <th>pa_per_so-5</th>\n",
       "    </tr>\n",
       "  </thead>\n",
       "  <tbody>\n",
       "    <tr>\n",
       "      <th>0</th>\n",
       "      <td>ordazlu01</td>\n",
       "      <td>1997.0</td>\n",
       "      <td>12.0</td>\n",
       "      <td>22.0</td>\n",
       "      <td>3.0</td>\n",
       "      <td>6.0</td>\n",
       "      <td>1.0</td>\n",
       "      <td>0.0</td>\n",
       "      <td>0.0</td>\n",
       "      <td>1.0</td>\n",
       "      <td>...</td>\n",
       "      <td>0.400000</td>\n",
       "      <td>0.108108</td>\n",
       "      <td>0.138298</td>\n",
       "      <td>0.244681</td>\n",
       "      <td>0.308411</td>\n",
       "      <td>7.160377</td>\n",
       "      <td>0.067551</td>\n",
       "      <td>0.256098</td>\n",
       "      <td>0.021277</td>\n",
       "      <td>8.153846</td>\n",
       "    </tr>\n",
       "    <tr>\n",
       "      <th>1</th>\n",
       "      <td>distebe01</td>\n",
       "      <td>1984.0</td>\n",
       "      <td>45.0</td>\n",
       "      <td>78.0</td>\n",
       "      <td>10.0</td>\n",
       "      <td>13.0</td>\n",
       "      <td>1.0</td>\n",
       "      <td>2.0</td>\n",
       "      <td>3.0</td>\n",
       "      <td>9.0</td>\n",
       "      <td>...</td>\n",
       "      <td>1.000000</td>\n",
       "      <td>0.094972</td>\n",
       "      <td>0.194805</td>\n",
       "      <td>0.337662</td>\n",
       "      <td>0.333333</td>\n",
       "      <td>16.725146</td>\n",
       "      <td>0.097808</td>\n",
       "      <td>0.295082</td>\n",
       "      <td>0.090909</td>\n",
       "      <td>5.700000</td>\n",
       "    </tr>\n",
       "    <tr>\n",
       "      <th>2</th>\n",
       "      <td>schmimi01</td>\n",
       "      <td>1972.0</td>\n",
       "      <td>13.0</td>\n",
       "      <td>34.0</td>\n",
       "      <td>2.0</td>\n",
       "      <td>7.0</td>\n",
       "      <td>0.0</td>\n",
       "      <td>0.0</td>\n",
       "      <td>1.0</td>\n",
       "      <td>3.0</td>\n",
       "      <td>...</td>\n",
       "      <td>0.652174</td>\n",
       "      <td>0.154993</td>\n",
       "      <td>0.224265</td>\n",
       "      <td>0.573529</td>\n",
       "      <td>0.393393</td>\n",
       "      <td>121.814815</td>\n",
       "      <td>0.187986</td>\n",
       "      <td>0.282443</td>\n",
       "      <td>0.299632</td>\n",
       "      <td>5.311475</td>\n",
       "    </tr>\n",
       "    <tr>\n",
       "      <th>3</th>\n",
       "      <td>thomeji01</td>\n",
       "      <td>1991.0</td>\n",
       "      <td>27.0</td>\n",
       "      <td>98.0</td>\n",
       "      <td>7.0</td>\n",
       "      <td>25.0</td>\n",
       "      <td>4.0</td>\n",
       "      <td>2.0</td>\n",
       "      <td>1.0</td>\n",
       "      <td>9.0</td>\n",
       "      <td>...</td>\n",
       "      <td>0.500000</td>\n",
       "      <td>0.190994</td>\n",
       "      <td>0.279208</td>\n",
       "      <td>0.611881</td>\n",
       "      <td>0.449686</td>\n",
       "      <td>137.770701</td>\n",
       "      <td>0.219380</td>\n",
       "      <td>0.362805</td>\n",
       "      <td>0.300990</td>\n",
       "      <td>4.453901</td>\n",
       "    </tr>\n",
       "    <tr>\n",
       "      <th>4</th>\n",
       "      <td>diazma02</td>\n",
       "      <td>2003.0</td>\n",
       "      <td>4.0</td>\n",
       "      <td>9.0</td>\n",
       "      <td>2.0</td>\n",
       "      <td>1.0</td>\n",
       "      <td>0.0</td>\n",
       "      <td>0.0</td>\n",
       "      <td>0.0</td>\n",
       "      <td>0.0</td>\n",
       "      <td>...</td>\n",
       "      <td>0.666667</td>\n",
       "      <td>0.021429</td>\n",
       "      <td>0.237037</td>\n",
       "      <td>0.303704</td>\n",
       "      <td>0.264286</td>\n",
       "      <td>10.695652</td>\n",
       "      <td>0.077505</td>\n",
       "      <td>0.303922</td>\n",
       "      <td>0.059259</td>\n",
       "      <td>4.312500</td>\n",
       "    </tr>\n",
       "  </tbody>\n",
       "</table>\n",
       "<p>5 rows × 247 columns</p>\n",
       "</div>"
      ],
      "text/plain": [
       "   player_id  year-0   g-0  ab-0   r-0   h-0  double-0  triple-0  hr-0  rbi-0  \\\n",
       "0  ordazlu01  1997.0  12.0  22.0   3.0   6.0       1.0       0.0   0.0    1.0   \n",
       "1  distebe01  1984.0  45.0  78.0  10.0  13.0       1.0       2.0   3.0    9.0   \n",
       "2  schmimi01  1972.0  13.0  34.0   2.0   7.0       0.0       0.0   1.0    3.0   \n",
       "3  thomeji01  1991.0  27.0  98.0   7.0  25.0       4.0       2.0   1.0    9.0   \n",
       "4   diazma02  2003.0   4.0   9.0   2.0   1.0       0.0       0.0   0.0    0.0   \n",
       "\n",
       "      ...       sb_ratio-5  bb_per_pa-5  so_per_ab-5     slg-5     obp-5  \\\n",
       "0     ...         0.400000     0.108108     0.138298  0.244681  0.308411   \n",
       "1     ...         1.000000     0.094972     0.194805  0.337662  0.333333   \n",
       "2     ...         0.652174     0.154993     0.224265  0.573529  0.393393   \n",
       "3     ...         0.500000     0.190994     0.279208  0.611881  0.449686   \n",
       "4     ...         0.666667     0.021429     0.237037  0.303704  0.264286   \n",
       "\n",
       "         rc-5  rc_per_ab-5   babip-5     iso-5  pa_per_so-5  \n",
       "0    7.160377     0.067551  0.256098  0.021277     8.153846  \n",
       "1   16.725146     0.097808  0.295082  0.090909     5.700000  \n",
       "2  121.814815     0.187986  0.282443  0.299632     5.311475  \n",
       "3  137.770701     0.219380  0.362805  0.300990     4.453901  \n",
       "4   10.695652     0.077505  0.303922  0.059259     4.312500  \n",
       "\n",
       "[5 rows x 247 columns]"
      ]
     },
     "execution_count": 2,
     "metadata": {},
     "output_type": "execute_result"
    }
   ],
   "source": [
    "x_bat = pd.read_csv(\"stacked_batting_features.csv\")\n",
    "x_bat.head()"
   ]
  },
  {
   "cell_type": "code",
   "execution_count": 3,
   "metadata": {},
   "outputs": [
    {
     "data": {
      "text/plain": [
       "0    0.0\n",
       "1    0.0\n",
       "2    6.2\n",
       "3    5.5\n",
       "4    1.7\n",
       "Name: 0, dtype: float64"
      ]
     },
     "execution_count": 3,
     "metadata": {},
     "output_type": "execute_result"
    }
   ],
   "source": [
    "y_bat = pd.read_csv(\"batting_yarr.csv\")\n",
    "y_bat7 = y_bat['0'] # start by looking at just data from year 7\n",
    "y_bat7.head()"
   ]
  },
  {
   "cell_type": "code",
   "execution_count": 4,
   "metadata": {},
   "outputs": [
    {
     "name": "stdout",
     "output_type": "stream",
     "text": [
      "id mismatches: 0 of 1669\n"
     ]
    }
   ],
   "source": [
    "features = x_bat.columns.tolist()\n",
    "X = x_bat.as_matrix()\n",
    "y = list(y_bat7)\n",
    "# check if X order matches y\n",
    "xplayers = X[:,0]\n",
    "yplayers = y_bat['player_id']\n",
    "mismatches = sum(xplayers != yplayers)\n",
    "print('id mismatches: ' + str(mismatches) + ' of ' + str(len(xplayers)))\n",
    "X = X[:,1:]"
   ]
  },
  {
   "cell_type": "code",
   "execution_count": 5,
   "metadata": {},
   "outputs": [
    {
     "name": "stderr",
     "output_type": "stream",
     "text": [
      "/Users/johollen/anaconda3/lib/python3.6/site-packages/sklearn/utils/validation.py:475: DataConversionWarning: Data with input dtype object was converted to float64 by MinMaxScaler.\n",
      "  warnings.warn(msg, DataConversionWarning)\n"
     ]
    },
    {
     "data": {
      "text/plain": [
       "MinMaxScaler(copy=True, feature_range=(0, 1))"
      ]
     },
     "execution_count": 5,
     "metadata": {},
     "output_type": "execute_result"
    }
   ],
   "source": [
    "from sklearn.preprocessing import MinMaxScaler\n",
    "from sklearn.model_selection import train_test_split\n",
    "\n",
    "Scaler = MinMaxScaler()\n",
    "Scaler.fit(X)"
   ]
  },
  {
   "cell_type": "code",
   "execution_count": 6,
   "metadata": {
    "collapsed": true
   },
   "outputs": [],
   "source": [
    "from sklearn.feature_selection import SelectKBest\n",
    "from sklearn.feature_selection import f_regression"
   ]
  },
  {
   "cell_type": "code",
   "execution_count": 7,
   "metadata": {
    "collapsed": true
   },
   "outputs": [],
   "source": [
    "X = Scaler.transform(X)\n",
    "k = 200\n",
    "Xr = SelectKBest(f_regression, k).fit_transform(X, y)\n",
    "# should split data earlier but can't figure out how to save transform from selectkbest\n",
    "Xtrain, Xtest, Ytrain, Ytest = train_test_split(Xr, y, test_size=0.20, random_state=54321)\n"
   ]
  },
  {
   "cell_type": "code",
   "execution_count": 8,
   "metadata": {
    "scrolled": true
   },
   "outputs": [
    {
     "name": "stdout",
     "output_type": "stream",
     "text": [
      "{'alpha': 10}\n"
     ]
    },
    {
     "data": {
      "text/plain": [
       "0.45265427797839469"
      ]
     },
     "execution_count": 8,
     "metadata": {},
     "output_type": "execute_result"
    }
   ],
   "source": [
    "from sklearn.neural_network import MLPRegressor\n",
    "from sklearn.tree import DecisionTreeRegressor\n",
    "from sklearn.model_selection import GridSearchCV\n",
    "\n",
    "MLP = MLPRegressor(activation='logistic', hidden_layer_sizes = (5), solver='lbfgs', alpha =1, random_state=54321)\n",
    "param_grid = [0.00001, 0.00003, 0.0001, 0.0003, 0.001, 0.003, 0.01, 0.03, 0.1, 0.3,\n",
    "              1, 3, 10, 30, 100, 300, 1000, 3000, 10000, 30000, 100000]\n",
    "param_dict = {\"alpha\" : param_grid}\n",
    "clf = GridSearchCV(MLP, param_dict, return_train_score=True, scoring='r2')\n",
    "clf.fit(Xtrain, Ytrain)\n",
    "clf.cv_results_\n",
    "print(clf.best_params_)\n",
    "clf.best_score_"
   ]
  },
  {
   "cell_type": "code",
   "execution_count": 9,
   "metadata": {},
   "outputs": [
    {
     "data": {
      "image/png": "[encoded data removed]",
      "text/plain": [
       "<matplotlib.figure.Figure at 0x10e6acb70>"
      ]
     },
     "metadata": {},
     "output_type": "display_data"
    }
   ],
   "source": [
    "import matplotlib.pyplot as plt\n",
    "\n",
    "Ypred = clf.predict(Xtest)\n",
    "plt.scatter(Ypred, Ytest)\n",
    "plt.plot([-1,3],[-1,3], 'r-')\n",
    "plt.show()"
   ]
  },
  {
   "cell_type": "code",
   "execution_count": 11,
   "metadata": {},
   "outputs": [
    {
     "data": {
      "text/plain": [
       "0.46517393324207734"
      ]
     },
     "execution_count": 11,
     "metadata": {},
     "output_type": "execute_result"
    }
   ],
   "source": [
    "from sklearn.metrics import r2_score\n",
    "\n",
    "r2_score(Ytest, Ypred)"
   ]
  },
  {
   "cell_type": "code",
   "execution_count": null,
   "metadata": {
    "collapsed": true
   },
   "outputs": [],
   "source": []
  }
 ],
 "metadata": {
  "kernelspec": {
   "display_name": "Python 3",
   "language": "python",
   "name": "python3"
  },
  "language_info": {
   "codemirror_mode": {
    "name": "ipython",
    "version": 3
   },
   "file_extension": ".py",
   "mimetype": "text/x-python",
   "name": "python",
   "nbconvert_exporter": "python",
   "pygments_lexer": "ipython3",
   "version": "3.6.3"
  }
 },
 "nbformat": 4,
 "nbformat_minor": 2
}
